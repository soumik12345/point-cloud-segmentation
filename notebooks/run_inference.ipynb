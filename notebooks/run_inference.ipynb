{
 "cells": [
  {
   "cell_type": "markdown",
   "id": "7a8ec08d",
   "metadata": {},
   "source": [
    "## Imports"
   ]
  },
  {
   "cell_type": "code",
   "execution_count": 15,
   "id": "cda4adbe",
   "metadata": {},
   "outputs": [],
   "source": [
    "import sys\n",
    "\n",
    "sys.path.append(\"..\")\n",
    "\n",
    "from point_seg import transform_block\n",
    "from point_seg import ShapeNetCoreLoaderInMemory\n",
    "from configs import shapenetcore\n",
    "\n",
    "import numpy as np\n",
    "import pandas as pd\n",
    "import tensorflow as tf\n",
    "import matplotlib.pyplot as plt"
   ]
  },
  {
   "cell_type": "markdown",
   "id": "6fd99694",
   "metadata": {},
   "source": [
    "## Constants"
   ]
  },
  {
   "cell_type": "code",
   "execution_count": 8,
   "id": "c0db0a7b",
   "metadata": {},
   "outputs": [],
   "source": [
    "CATEGORY = \"Airplane\"\n",
    "CONFIGS = shapenetcore.get_config()"
   ]
  },
  {
   "cell_type": "markdown",
   "id": "f0d871e0",
   "metadata": {},
   "source": [
    "## Load metadata"
   ]
  },
  {
   "cell_type": "code",
   "execution_count": 9,
   "id": "da3cbf30",
   "metadata": {},
   "outputs": [
    {
     "name": "stdout",
     "output_type": "stream",
     "text": [
      "{'Airplane': {'directory': '02691156', 'lables': ['wing', 'body', 'tail', 'engine'], 'colors': ['blue', 'green', 'red', 'pink']}, 'Bag': {'directory': '02773838', 'lables': ['handle', 'body'], 'colors': ['blue', 'green']}, 'Cap': {'directory': '02954340', 'lables': ['panels', 'peak'], 'colors': ['blue', 'green']}, 'Car': {'directory': '02958343', 'lables': ['wheel', 'hood', 'roof'], 'colors': ['blue', 'green', 'red']}, 'Chair': {'directory': '03001627', 'lables': ['leg', 'arm', 'back', 'seat'], 'colors': ['blue', 'green', 'red', 'pink']}, 'Earphone': {'directory': '03261776', 'lables': ['earphone', 'headband'], 'colors': ['blue', 'green']}, 'Guitar': {'directory': '03467517', 'lables': ['head', 'body', 'neck'], 'colors': ['blue', 'green', 'red']}, 'Knife': {'directory': '03624134', 'lables': ['handle', 'blade'], 'colors': ['blue', 'green']}, 'Lamp': {'directory': '03636649', 'lables': ['canopy', 'lampshade', 'base'], 'colors': ['blue', 'green', 'red']}, 'Laptop': {'directory': '03642806', 'lables': ['keyboard'], 'colors': ['blue']}, 'Motorbike': {'directory': '03790512', 'lables': ['wheel', 'handle', 'gas_tank', 'light', 'seat'], 'colors': ['blue', 'green', 'red', 'pink', 'yellow']}, 'Mug': {'directory': '03797390', 'lables': ['handle'], 'colors': ['blue']}, 'Pistol': {'directory': '03948459', 'lables': ['trigger_and_guard', 'handle', 'barrel'], 'colors': ['blue', 'green', 'red']}, 'Rocket': {'directory': '04099429', 'lables': ['nose', 'body', 'fin'], 'colors': ['blue', 'green', 'red']}, 'Skateboard': {'directory': '04225987', 'lables': ['wheel', 'deck'], 'colors': ['blue', 'green']}, 'Table': {'directory': '04379243', 'lables': ['leg', 'top'], 'colors': ['blue', 'green']}}\n"
     ]
    }
   ],
   "source": [
    "with open(\"/tmp/.keras/datasets/PartAnnotation/metadata.json\") as json_file:\n",
    "    metadata = json.load(json_file)\n",
    "\n",
    "print(metadata)\n",
    "\n",
    "LABELS = metadata[CATEGORY][\"lables\"]\n",
    "COLORS = metadata[CATEGORY][\"colors\"]"
   ]
  },
  {
   "cell_type": "markdown",
   "id": "9646716a",
   "metadata": {},
   "source": [
    "## Visualization utils"
   ]
  },
  {
   "cell_type": "code",
   "execution_count": 10,
   "id": "b7828585",
   "metadata": {},
   "outputs": [],
   "source": [
    "def visualize_data(point_cloud, labels):\n",
    "    df = pd.DataFrame(\n",
    "        data={\n",
    "            \"x\": point_cloud[:, 0],\n",
    "            \"y\": point_cloud[:, 1],\n",
    "            \"z\": point_cloud[:, 2],\n",
    "            \"label\": labels,\n",
    "        }\n",
    "    )\n",
    "    fig = plt.figure(figsize=(15, 10))\n",
    "    ax = plt.axes(projection=\"3d\")\n",
    "    for index, label in enumerate(LABELS):\n",
    "        c_df = df[df[\"label\"] == label]\n",
    "        try:\n",
    "            ax.scatter(\n",
    "                c_df[\"x\"], c_df[\"y\"], c_df[\"z\"], label=label, alpha=0.5, c=COLORS[index]\n",
    "            )\n",
    "        except IndexError:\n",
    "            pass\n",
    "    ax.legend()\n",
    "    plt.show()\n",
    "\n",
    "\n",
    "def visualize_single_point_cloud(point_clouds, label_clouds, idx):\n",
    "    label_map = LABELS + [\"none\"]\n",
    "    point_cloud = point_clouds[idx]\n",
    "    label_cloud = label_clouds[idx]\n",
    "    visualize_data(point_cloud, [label_map[np.argmax(label)] for label in label_cloud])"
   ]
  },
  {
   "cell_type": "markdown",
   "id": "d02fb68b",
   "metadata": {},
   "source": [
    "## Load data"
   ]
  },
  {
   "cell_type": "code",
   "execution_count": 6,
   "id": "a147c631",
   "metadata": {},
   "outputs": [
    {
     "name": "stdout",
     "output_type": "stream",
     "text": [
      "Downloading data from https://github.com/soumik12345/point-cloud-segmentation/releases/download/v0.1/shapenet.zip\n",
      "1078927360/1078925405 [==============================] - 696s 1us/step\n",
      "1078935552/1078925405 [==============================] - 696s 1us/step\n"
     ]
    },
    {
     "name": "stderr",
     "output_type": "stream",
     "text": [
      "100%|███████████████████████████████████████| 4045/4045 [03:42<00:00, 18.15it/s]\n",
      "100%|██████████████████████████████████████| 3694/3694 [00:06<00:00, 529.65it/s]\n",
      "2021-10-29 14:50:29.360935: I tensorflow/core/platform/cpu_feature_guard.cc:142] This TensorFlow binary is optimized with oneAPI Deep Neural Network Library (oneDNN) to use the following CPU instructions in performance-critical operations:  AVX2 FMA\n",
      "To enable them in other operations, rebuild TensorFlow with the appropriate compiler flags.\n"
     ]
    }
   ],
   "source": [
    "data_loader = ShapeNetCoreLoaderInMemory(\n",
    "    object_category=CATEGORY,\n",
    "    n_sampled_points=CONFIGS.num_points,\n",
    ")\n",
    "data_loader.load_data()\n",
    "_, val_dataset = data_loader.get_datasets(\n",
    "    val_split=CONFIGS.val_split,\n",
    "    batch_size=CONFIGS.batch_size,\n",
    ")"
   ]
  },
  {
   "cell_type": "markdown",
   "id": "b8f8d7bf",
   "metadata": {},
   "source": [
    "## Fetch model location\n",
    "\n",
    "This needs to be updated after we release all the models on GitHub."
   ]
  },
  {
   "cell_type": "code",
   "execution_count": 13,
   "id": "e07df8ec",
   "metadata": {},
   "outputs": [
    {
     "name": "stdout",
     "output_type": "stream",
     "text": [
      "gs://pointnet-segmentation/final_models/Airplane_211028-145411\n"
     ]
    }
   ],
   "source": [
    "model_location = \"gs://pointnet-segmentation/final_models\"\n",
    "category_model_location = tf.io.gfile.glob(model_location + f\"/{CATEGORY}_*\")[-1]\n",
    "print(category_model_location)"
   ]
  },
  {
   "cell_type": "markdown",
   "id": "7a1d72c8",
   "metadata": {},
   "source": [
    "## Load model and perform inference"
   ]
  },
  {
   "cell_type": "code",
   "execution_count": null,
   "id": "e676d33a",
   "metadata": {},
   "outputs": [],
   "source": [
    "segmentation_model = tf.keras.models.load_model(\n",
    "    category_model_location,\n",
    "    custom_objects={\"OrthogonalRegularizer\": transform_block.OrthogonalRegularizer},\n",
    ")\n",
    "val_image_batch, val_label_batch = val_dataset.take(1)\n",
    "val_predictions = segmentation_model.predict(val_image_batch)"
   ]
  },
  {
   "cell_type": "markdown",
   "id": "47c75007",
   "metadata": {},
   "source": [
    "## Visualize the predictions"
   ]
  },
  {
   "cell_type": "code",
   "execution_count": null,
   "id": "c60331ba",
   "metadata": {},
   "outputs": [],
   "source": [
    "idx = np.random.choice(len(validation_batch[0]))\n",
    "print(f\"Index selected: {idx}\")\n",
    "\n",
    "# Plotting with ground-truth.\n",
    "visualize_single_point_cloud(val_image_batch, val_label_batch, idx)\n",
    "\n",
    "# Plotting with predicted labels.\n",
    "visualize_single_point_cloud(val_image_batch, val_predictions, idx)"
   ]
  }
 ],
 "metadata": {
  "kernelspec": {
   "display_name": "Python 3 (ipykernel)",
   "language": "python",
   "name": "python3"
  },
  "language_info": {
   "codemirror_mode": {
    "name": "ipython",
    "version": 3
   },
   "file_extension": ".py",
   "mimetype": "text/x-python",
   "name": "python",
   "nbconvert_exporter": "python",
   "pygments_lexer": "ipython3",
   "version": "3.8.2"
  }
 },
 "nbformat": 4,
 "nbformat_minor": 5
}
