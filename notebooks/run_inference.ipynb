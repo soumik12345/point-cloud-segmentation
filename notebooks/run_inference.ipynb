{
  "nbformat": 4,
  "nbformat_minor": 5,
  "metadata": {
    "kernelspec": {
      "display_name": "Python 3 (ipykernel)",
      "language": "python",
      "name": "python3"
    },
    "language_info": {
      "codemirror_mode": {
        "name": "ipython",
        "version": 3
      },
      "file_extension": ".py",
      "mimetype": "text/x-python",
      "name": "python",
      "nbconvert_exporter": "python",
      "pygments_lexer": "ipython3",
      "version": "3.8.2"
    },
    "colab": {
      "name": "run_inference.ipynb",
      "provenance": [],
      "machine_shape": "hm"
    },
    "accelerator": "GPU"
  },
  "cells": [
    {
      "cell_type": "markdown",
      "metadata": {
        "id": "7a8ec08d"
      },
      "source": [
        "## Imports"
      ],
      "id": "7a8ec08d"
    },
    {
      "cell_type": "code",
      "metadata": {
        "id": "WT_OFNfzZD6_"
      },
      "source": [
        "!git clone https://github.com/soumik12345/point-cloud-segmentation -q"
      ],
      "id": "WT_OFNfzZD6_",
      "execution_count": null,
      "outputs": []
    },
    {
      "cell_type": "code",
      "metadata": {
        "id": "5MHIVzgFZHaZ"
      },
      "source": [
        "!pip install wandb ml_collections -qqq"
      ],
      "id": "5MHIVzgFZHaZ",
      "execution_count": null,
      "outputs": []
    },
    {
      "cell_type": "code",
      "metadata": {
        "id": "cda4adbe"
      },
      "source": [
        "import sys\n",
        "\n",
        "sys.path.append(\"point-cloud-segmentation\")\n",
        "\n",
        "from point_seg import transform_block\n",
        "from point_seg import ShapeNetCoreLoaderInMemory\n",
        "from configs import shapenetcore\n",
        "\n",
        "import json\n",
        "import numpy as np\n",
        "import pandas as pd\n",
        "import tensorflow as tf\n",
        "import matplotlib.pyplot as plt"
      ],
      "id": "cda4adbe",
      "execution_count": null,
      "outputs": []
    },
    {
      "cell_type": "markdown",
      "metadata": {
        "id": "6fd99694"
      },
      "source": [
        "## Constants"
      ],
      "id": "6fd99694"
    },
    {
      "cell_type": "code",
      "metadata": {
        "id": "c0db0a7b"
      },
      "source": [
        "CATEGORY = Airplane #@param [\"Airplane\", \"Bag\", \"Cap\", \"Car\", \"Chair\", \"Earphone\", \"Guitar\", \"Knife\", \"Lamp\", \"Laptop\", \"Motorbike\", \"Mug\", \"Pistol\", \"Rocket\", \"Skateboard\", \"Table\"] {type:\"raw\"}\n",
        "CONFIGS = shapenetcore.get_config()"
      ],
      "id": "c0db0a7b",
      "execution_count": null,
      "outputs": []
    },
    {
      "cell_type": "markdown",
      "metadata": {
        "id": "f0d871e0"
      },
      "source": [
        "## Load metadata"
      ],
      "id": "f0d871e0"
    },
    {
      "cell_type": "code",
      "metadata": {
        "id": "da3cbf30"
      },
      "source": [
        "metadata_path = tf.keras.utils.get_file(origin=\"https://github.com/soumik12345/point-cloud-segmentation/releases/download/v0.2/metadata.json\")\n",
        "\n",
        "with open(metadata_path) as json_file:\n",
        "    metadata = json.load(json_file)\n",
        "\n",
        "print(metadata)\n",
        "\n",
        "LABELS = metadata[CATEGORY][\"lables\"]\n",
        "COLORS = metadata[CATEGORY][\"colors\"]"
      ],
      "id": "da3cbf30",
      "execution_count": null,
      "outputs": []
    },
    {
      "cell_type": "markdown",
      "metadata": {
        "id": "9646716a"
      },
      "source": [
        "## Visualization utils"
      ],
      "id": "9646716a"
    },
    {
      "cell_type": "code",
      "metadata": {
        "id": "b7828585"
      },
      "source": [
        "def visualize_data(point_cloud, labels):\n",
        "    df = pd.DataFrame(\n",
        "        data={\n",
        "            \"x\": point_cloud[:, 0],\n",
        "            \"y\": point_cloud[:, 1],\n",
        "            \"z\": point_cloud[:, 2],\n",
        "            \"label\": labels,\n",
        "        }\n",
        "    )\n",
        "    fig = plt.figure(figsize=(15, 10))\n",
        "    ax = plt.axes(projection=\"3d\")\n",
        "    for index, label in enumerate(LABELS):\n",
        "        c_df = df[df[\"label\"] == label]\n",
        "        try:\n",
        "            ax.scatter(\n",
        "                c_df[\"x\"], c_df[\"y\"], c_df[\"z\"], label=label, alpha=0.5, c=COLORS[index]\n",
        "            )\n",
        "        except IndexError:\n",
        "            pass\n",
        "    ax.legend()\n",
        "    plt.show()\n",
        "\n",
        "\n",
        "def visualize_single_point_cloud(point_clouds, label_clouds, idx):\n",
        "    label_map = LABELS + [\"none\"]\n",
        "    point_cloud = point_clouds[idx]\n",
        "    label_cloud = label_clouds[idx]\n",
        "    visualize_data(point_cloud, [label_map[np.argmax(label)] for label in label_cloud])"
      ],
      "id": "b7828585",
      "execution_count": null,
      "outputs": []
    },
    {
      "cell_type": "markdown",
      "metadata": {
        "id": "d02fb68b"
      },
      "source": [
        "## Load data"
      ],
      "id": "d02fb68b"
    },
    {
      "cell_type": "code",
      "metadata": {
        "id": "a147c631"
      },
      "source": [
        "data_loader = ShapeNetCoreLoaderInMemory(\n",
        "    object_category=CATEGORY,\n",
        "    n_sampled_points=CONFIGS.num_points,\n",
        ")\n",
        "data_loader.load_data()\n",
        "_, val_dataset = data_loader.get_datasets(\n",
        "    val_split=CONFIGS.val_split,\n",
        "    batch_size=CONFIGS.batch_size,\n",
        ")"
      ],
      "id": "a147c631",
      "execution_count": null,
      "outputs": []
    },
    {
      "cell_type": "markdown",
      "metadata": {
        "id": "b8f8d7bf"
      },
      "source": [
        "## Fetch model location\n",
        "\n",
        "This needs to be updated after we release all the models on GitHub."
      ],
      "id": "b8f8d7bf"
    },
    {
      "cell_type": "code",
      "metadata": {
        "id": "e07df8ec"
      },
      "source": [
        "model_location = \"gs://pointnet-segmentation/final_models\"\n",
        "category_model_location = tf.io.gfile.glob(model_location + f\"/{CATEGORY}_*\")[-1]\n",
        "print(category_model_location)"
      ],
      "id": "e07df8ec",
      "execution_count": null,
      "outputs": []
    },
    {
      "cell_type": "markdown",
      "metadata": {
        "id": "7a1d72c8"
      },
      "source": [
        "## Load model and perform inference"
      ],
      "id": "7a1d72c8"
    },
    {
      "cell_type": "code",
      "metadata": {
        "id": "e676d33a"
      },
      "source": [
        "segmentation_model = tf.keras.models.load_model(\n",
        "    category_model_location,\n",
        "    custom_objects={\"OrthogonalRegularizer\": transform_block.OrthogonalRegularizer},\n",
        ")\n",
        "val_data_batch = next(iter(val_dataset))\n",
        "val_predictions = segmentation_model.predict(val_data_batch[0])"
      ],
      "id": "e676d33a",
      "execution_count": null,
      "outputs": []
    },
    {
      "cell_type": "markdown",
      "metadata": {
        "id": "47c75007"
      },
      "source": [
        "## Visualize the predictions"
      ],
      "id": "47c75007"
    },
    {
      "cell_type": "code",
      "metadata": {
        "id": "c60331ba"
      },
      "source": [
        "idx = np.random.choice(len(val_data_batch[0]))\n",
        "print(f\"Index selected: {idx}\")\n",
        "\n",
        "# Plotting with ground-truth.\n",
        "print(\"***********Ground-truth***********\")\n",
        "visualize_single_point_cloud(val_data_batch[0], val_data_batch[1], idx)\n",
        "\n",
        "# Plotting with predicted labels.\n",
        "print(\"***********Predicted***********\")\n",
        "visualize_single_point_cloud(val_data_batch[0], val_predictions, idx)"
      ],
      "id": "c60331ba",
      "execution_count": null,
      "outputs": []
    }
  ]
}