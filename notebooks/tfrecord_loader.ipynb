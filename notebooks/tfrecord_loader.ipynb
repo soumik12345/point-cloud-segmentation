{
 "cells": [
  {
   "cell_type": "code",
   "execution_count": null,
   "id": "375b0cb8",
   "metadata": {},
   "outputs": [],
   "source": [
    "from glob import glob\n",
    "import tensorflow as tf"
   ]
  },
  {
   "cell_type": "code",
   "execution_count": null,
   "id": "0975fb23",
   "metadata": {},
   "outputs": [],
   "source": [
    "def parse_tfrecord_fn(example):\n",
    "    feature_description = {\n",
    "        \"point_cloud\": tf.io.FixedLenFeature([], tf.string),\n",
    "        \"label_cloud\": tf.io.FixedLenFeature([], tf.string)\n",
    "    }\n",
    "    example = tf.io.parse_single_example(example, feature_description)\n",
    "    point_cloud = tf.io.parse_tensor(example[\"point_cloud\"], out_type=tf.float32)\n",
    "    label_cloud = tf.io.parse_tensor(example[\"label_cloud\"], out_type=tf.float32)\n",
    "    return point_cloud, label_cloud\n",
    "\n",
    "def augment(point_cloud_batch, label_cloud_batch):\n",
    "    \"\"\"Jitter point and label clouds.\"\"\"\n",
    "    noise = tf.random.uniform(\n",
    "        tf.shape(label_cloud_batch), -0.005, 0.005, dtype=tf.float32\n",
    "    )\n",
    "    point_cloud_batch += noise[:, :, :3]\n",
    "    return point_cloud_batch, label_cloud_batch"
   ]
  },
  {
   "cell_type": "code",
   "execution_count": null,
   "id": "a034d830",
   "metadata": {},
   "outputs": [],
   "source": [
    "raw_dataset = tf.data.TFRecordDataset(glob(\"../tfrecords/Airplane/train/*.tfrec\"))\n",
    "dataset = raw_dataset.map(parse_tfrecord_fn, num_parallel_calls=tf.data.AUTOTUNE).batch(16)\n",
    "dataset = dataset.map(augment, num_parallel_calls=tf.data.AUTOTUNE)"
   ]
  },
  {
   "cell_type": "code",
   "execution_count": null,
   "id": "ccc22c69",
   "metadata": {},
   "outputs": [],
   "source": [
    "x, y = next(iter(dataset))"
   ]
  },
  {
   "cell_type": "code",
   "execution_count": null,
   "id": "629ebebb",
   "metadata": {},
   "outputs": [],
   "source": [
    "x.shape, y.shape"
   ]
  },
  {
   "cell_type": "code",
   "execution_count": null,
   "id": "c9af87ff",
   "metadata": {},
   "outputs": [],
   "source": []
  }
 ],
 "metadata": {
  "kernelspec": {
   "display_name": "Python 3 (ipykernel)",
   "language": "python",
   "name": "python3"
  },
  "language_info": {
   "codemirror_mode": {
    "name": "ipython",
    "version": 3
   },
   "file_extension": ".py",
   "mimetype": "text/x-python",
   "name": "python",
   "nbconvert_exporter": "python",
   "pygments_lexer": "ipython3",
   "version": "3.8.10"
  }
 },
 "nbformat": 4,
 "nbformat_minor": 5
}
