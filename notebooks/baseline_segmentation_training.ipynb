{
 "cells": [
  {
   "cell_type": "code",
   "execution_count": null,
   "metadata": {
    "id": "ONhKl6R7Qs0t"
   },
   "outputs": [],
   "source": [
    "!git clone -q https://github.com/soumik12345/point-cloud-segmentation"
   ]
  },
  {
   "cell_type": "code",
   "execution_count": null,
   "metadata": {
    "id": "RQOjCKaDRQuQ"
   },
   "outputs": [],
   "source": [
    "import sys\n",
    "\n",
    "sys.path.append(\"point-cloud-segmentation\")\n",
    "\n",
    "from point_seg import ShapeNetCoreLoaderInMemory\n",
    "from point_seg import models\n",
    "\n",
    "import tensorflow as tf\n",
    "\n",
    "from datetime import datetime\n",
    "import matplotlib.pyplot as plt\n",
    "import pandas as pd\n",
    "import numpy as np"
   ]
  },
  {
   "cell_type": "code",
   "execution_count": null,
   "metadata": {
    "colab": {
     "base_uri": "https://localhost:8080/"
    },
    "id": "h2ZrnmI3ReAR",
    "outputId": "e553a1f7-8700-46b4-8507-6e348c88abe4"
   },
   "outputs": [],
   "source": [
    "data_loader = ShapeNetCoreLoaderInMemory(\n",
    "    object_category=\"Airplane\", n_sampled_points=2048\n",
    ")\n",
    "data_loader.load_data()\n",
    "train_dataset, val_dataset = data_loader.get_datasets(batch_size=32)"
   ]
  },
  {
   "cell_type": "code",
   "execution_count": null,
   "metadata": {
    "colab": {
     "base_uri": "https://localhost:8080/"
    },
    "id": "652Glt7xRpx4",
    "outputId": "241ecebe-f804-42d0-ceb8-86f3517c18a6"
   },
   "outputs": [],
   "source": [
    "x, y = next(iter(train_dataset))\n",
    "print(x.shape, y.shape)\n",
    "\n",
    "num_points = x.shape[1]\n",
    "num_classes = y.shape[-1]"
   ]
  },
  {
   "cell_type": "code",
   "execution_count": null,
   "metadata": {
    "colab": {
     "base_uri": "https://localhost:8080/"
    },
    "id": "cvl82z_LRxRg",
    "outputId": "b17f9afd-b969-4a8d-a10d-42379b20f847"
   },
   "outputs": [],
   "source": [
    "baseline_segmentation_model = models.get_baseline_segmentation_model(\n",
    "    num_points, num_classes\n",
    ")\n",
    "baseline_segmentation_model.summary()"
   ]
  },
  {
   "cell_type": "code",
   "execution_count": null,
   "metadata": {
    "id": "8aYirRwVSBeA"
   },
   "outputs": [],
   "source": [
    "initial_lr = 0.001\n",
    "drop_every = 20\n",
    "decay_factor = 0.5\n",
    "\n",
    "\n",
    "# Reference: https://www.pyimagesearch.com/2019/07/22/keras-learning-rate-schedules-and-decay/\n",
    "def lr_schedule(epoch):\n",
    "    exp = np.floor((1 + epoch) / drop_every)\n",
    "    new_lr = initial_lr * (decay_factor ** exp)\n",
    "    return new_lr\n",
    "\n",
    "\n",
    "lr_callback = tf.keras.callbacks.LearningRateScheduler(\n",
    "    lambda epoch: lr_schedule(epoch), verbose=True\n",
    ")"
   ]
  },
  {
   "cell_type": "code",
   "execution_count": null,
   "metadata": {
    "colab": {
     "base_uri": "https://localhost:8080/"
    },
    "id": "mqj7DifGUsVM",
    "outputId": "d5aecfc1-167d-4bf8-be6e-c23501211f11"
   },
   "outputs": [],
   "source": [
    "def run_experiment(epochs=100):\n",
    "    optimizer = tf.keras.optimizers.Adam(learning_rate=initial_lr)\n",
    "    baseline_segmentation_model = models.get_baseline_segmentation_model(\n",
    "        num_points, num_classes\n",
    "    )\n",
    "    baseline_segmentation_model.compile(\n",
    "        optimizer=optimizer, loss=\"categorical_crossentropy\"\n",
    "    )\n",
    "\n",
    "    logs_dir = f'logs_{datetime.utcnow().strftime(\"%y%m%d-%H%M%S\")}'\n",
    "    tb_callback = tf.keras.callbacks.TensorBoard(log_dir=logs_dir)\n",
    "\n",
    "    baseline_segmentation_model.fit(\n",
    "        train_dataset,\n",
    "        validation_data=val_dataset,\n",
    "        epochs=epochs,\n",
    "        callbacks=[tb_callback, lr_callback],\n",
    "    )\n",
    "\n",
    "\n",
    "run_experiment()"
   ]
  }
 ],
 "metadata": {
  "accelerator": "GPU",
  "colab": {
   "collapsed_sections": [],
   "machine_shape": "hm",
   "name": "baseline-segmentation-training.ipynb",
   "provenance": []
  },
  "kernelspec": {
   "display_name": "Python 3 (ipykernel)",
   "language": "python",
   "name": "python3"
  },
  "language_info": {
   "codemirror_mode": {
    "name": "ipython",
    "version": 3
   },
   "file_extension": ".py",
   "mimetype": "text/x-python",
   "name": "python",
   "nbconvert_exporter": "python",
   "pygments_lexer": "ipython3",
   "version": "3.8.2"
  }
 },
 "nbformat": 4,
 "nbformat_minor": 1
}
