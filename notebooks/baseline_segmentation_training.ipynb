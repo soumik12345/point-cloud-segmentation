{
 "cells": [
  {
   "cell_type": "code",
   "execution_count": 1,
   "metadata": {
    "id": "ONhKl6R7Qs0t"
   },
   "outputs": [],
   "source": [
    "!git clone -q https://github.com/soumik12345/point-cloud-segmentation"
   ]
  },
  {
   "cell_type": "code",
   "execution_count": 9,
   "metadata": {
    "id": "RQOjCKaDRQuQ"
   },
   "outputs": [],
   "source": [
    "import sys\n",
    "\n",
    "sys.path.append(\"point-cloud-segmentation\")\n",
    "\n",
    "from point_seg import ShapeNetCoreLoaderInMemory, ShapeNetCoreLoader\n",
    "from point_seg import models\n",
    "\n",
    "import tensorflow as tf\n",
    "\n",
    "from datetime import datetime\n",
    "import matplotlib.pyplot as plt\n",
    "import pandas as pd\n",
    "import numpy as np"
   ]
  },
  {
   "cell_type": "code",
   "execution_count": 3,
   "metadata": {
    "colab": {
     "base_uri": "https://localhost:8080/"
    },
    "id": "h2ZrnmI3ReAR",
    "outputId": "e553a1f7-8700-46b4-8507-6e348c88abe4"
   },
   "outputs": [
    {
     "name": "stdout",
     "output_type": "stream",
     "text": [
      "Downloading data from https://github.com/soumik12345/point-cloud-segmentation/releases/download/v0.1/shapenet.zip\n",
      "1078927360/1078925405 [==============================] - 21s 0us/step\n",
      "1078935552/1078925405 [==============================] - 21s 0us/step\n"
     ]
    },
    {
     "name": "stderr",
     "output_type": "stream",
     "text": [
      "100%|██████████| 4045/4045 [00:00<00:00, 28262.14it/s]\n"
     ]
    },
    {
     "name": "stdout",
     "output_type": "stream",
     "text": [
      "\n",
      "Number of Point Files with keys: 3694\n",
      "Number of Point Files without keys: 351\n",
      "Total training files: 2955.\n",
      "Total validation files: 739.\n"
     ]
    }
   ],
   "source": [
    "data_loader = ShapeNetCoreLoader(object_category=\"Airplane\")\n",
    "train_dataset, val_dataset = data_loader.get_datasets(batch_size=32)"
   ]
  },
  {
   "cell_type": "code",
   "execution_count": 4,
   "metadata": {
    "colab": {
     "base_uri": "https://localhost:8080/"
    },
    "id": "652Glt7xRpx4",
    "outputId": "241ecebe-f804-42d0-ceb8-86f3517c18a6"
   },
   "outputs": [
    {
     "name": "stdout",
     "output_type": "stream",
     "text": [
      "(32, 1024, 3) (32, 1024, 5)\n"
     ]
    }
   ],
   "source": [
    "x, y = next(iter(train_dataset))\n",
    "print(x.shape, y.shape)\n",
    "\n",
    "num_points = x.shape[1]\n",
    "num_classes = y.shape[-1]"
   ]
  },
  {
   "cell_type": "code",
   "execution_count": 5,
   "metadata": {
    "colab": {
     "base_uri": "https://localhost:8080/"
    },
    "id": "cvl82z_LRxRg",
    "outputId": "b17f9afd-b969-4a8d-a10d-42379b20f847"
   },
   "outputs": [
    {
     "name": "stdout",
     "output_type": "stream",
     "text": [
      "Model: \"baseline_pointnet_segmentation_model\"\n",
      "__________________________________________________________________________________________________\n",
      "Layer (type)                    Output Shape         Param #     Connected to                     \n",
      "==================================================================================================\n",
      "input_1 (InputLayer)            [(None, 1024, 3)]    0                                            \n",
      "__________________________________________________________________________________________________\n",
      "input_transformation_block_1_co (None, 1024, 64)     256         input_1[0][0]                    \n",
      "__________________________________________________________________________________________________\n",
      "input_transformation_block_1_ba (None, 1024, 64)     256         input_transformation_block_1_conv\n",
      "__________________________________________________________________________________________________\n",
      "input_transformation_block_1_re (None, 1024, 64)     0           input_transformation_block_1_batc\n",
      "__________________________________________________________________________________________________\n",
      "input_transformation_block_2_co (None, 1024, 128)    8320        input_transformation_block_1_relu\n",
      "__________________________________________________________________________________________________\n",
      "input_transformation_block_2_ba (None, 1024, 128)    512         input_transformation_block_2_conv\n",
      "__________________________________________________________________________________________________\n",
      "input_transformation_block_2_re (None, 1024, 128)    0           input_transformation_block_2_batc\n",
      "__________________________________________________________________________________________________\n",
      "input_transformation_block_3_co (None, 1024, 1024)   132096      input_transformation_block_2_relu\n",
      "__________________________________________________________________________________________________\n",
      "input_transformation_block_3_ba (None, 1024, 1024)   4096        input_transformation_block_3_conv\n",
      "__________________________________________________________________________________________________\n",
      "input_transformation_block_3_re (None, 1024, 1024)   0           input_transformation_block_3_batc\n",
      "__________________________________________________________________________________________________\n",
      "global_max_pooling1d (GlobalMax (None, 1024)         0           input_transformation_block_3_relu\n",
      "__________________________________________________________________________________________________\n",
      "input_transformation_block_1_1_ (None, 512)          524800      global_max_pooling1d[0][0]       \n",
      "__________________________________________________________________________________________________\n",
      "input_transformation_block_1_1_ (None, 512)          2048        input_transformation_block_1_1_de\n",
      "__________________________________________________________________________________________________\n",
      "input_transformation_block_1_1_ (None, 512)          0           input_transformation_block_1_1_ba\n",
      "__________________________________________________________________________________________________\n",
      "input_transformation_block_2_1_ (None, 256)          131328      input_transformation_block_1_1_re\n",
      "__________________________________________________________________________________________________\n",
      "input_transformation_block_2_1_ (None, 256)          1024        input_transformation_block_2_1_de\n",
      "__________________________________________________________________________________________________\n",
      "input_transformation_block_2_1_ (None, 256)          0           input_transformation_block_2_1_ba\n",
      "__________________________________________________________________________________________________\n",
      "input_transformation_block_fina (None, 9)            2313        input_transformation_block_2_1_re\n",
      "__________________________________________________________________________________________________\n",
      "reshape (Reshape)               (None, 3, 3)         0           input_transformation_block_final[\n",
      "__________________________________________________________________________________________________\n",
      "input_transformation_block_mm ( (None, 1024, 3)      0           input_1[0][0]                    \n",
      "                                                                 reshape[0][0]                    \n",
      "__________________________________________________________________________________________________\n",
      "first_block_conv (Conv1D)       (None, 1024, 64)     256         input_transformation_block_mm[0][\n",
      "__________________________________________________________________________________________________\n",
      "first_block_batch_norm (BatchNo (None, 1024, 64)     256         first_block_conv[0][0]           \n",
      "__________________________________________________________________________________________________\n",
      "first_block_relu (Activation)   (None, 1024, 64)     0           first_block_batch_norm[0][0]     \n",
      "__________________________________________________________________________________________________\n",
      "second_block_conv (Conv1D)      (None, 1024, 64)     4160        first_block_relu[0][0]           \n",
      "__________________________________________________________________________________________________\n",
      "second_block_batch_norm (BatchN (None, 1024, 64)     256         second_block_conv[0][0]          \n",
      "__________________________________________________________________________________________________\n",
      "second_block_relu (Activation)  (None, 1024, 64)     0           second_block_batch_norm[0][0]    \n",
      "__________________________________________________________________________________________________\n",
      "feature_transformation_block_1_ (None, 1024, 64)     4160        second_block_relu[0][0]          \n",
      "__________________________________________________________________________________________________\n",
      "feature_transformation_block_1_ (None, 1024, 64)     256         feature_transformation_block_1_co\n",
      "__________________________________________________________________________________________________\n",
      "feature_transformation_block_1_ (None, 1024, 64)     0           feature_transformation_block_1_ba\n",
      "__________________________________________________________________________________________________\n",
      "feature_transformation_block_2_ (None, 1024, 128)    8320        feature_transformation_block_1_re\n",
      "__________________________________________________________________________________________________\n",
      "feature_transformation_block_2_ (None, 1024, 128)    512         feature_transformation_block_2_co\n",
      "__________________________________________________________________________________________________\n",
      "feature_transformation_block_2_ (None, 1024, 128)    0           feature_transformation_block_2_ba\n",
      "__________________________________________________________________________________________________\n",
      "feature_transformation_block_3_ (None, 1024, 1024)   132096      feature_transformation_block_2_re\n",
      "__________________________________________________________________________________________________\n",
      "feature_transformation_block_3_ (None, 1024, 1024)   4096        feature_transformation_block_3_co\n",
      "__________________________________________________________________________________________________\n",
      "feature_transformation_block_3_ (None, 1024, 1024)   0           feature_transformation_block_3_ba\n",
      "__________________________________________________________________________________________________\n",
      "global_max_pooling1d_1 (GlobalM (None, 1024)         0           feature_transformation_block_3_re\n",
      "__________________________________________________________________________________________________\n",
      "feature_transformation_block_1_ (None, 512)          524800      global_max_pooling1d_1[0][0]     \n",
      "__________________________________________________________________________________________________\n",
      "feature_transformation_block_1_ (None, 512)          2048        feature_transformation_block_1_1_\n",
      "__________________________________________________________________________________________________\n",
      "feature_transformation_block_1_ (None, 512)          0           feature_transformation_block_1_1_\n",
      "__________________________________________________________________________________________________\n",
      "feature_transformation_block_2_ (None, 256)          131328      feature_transformation_block_1_1_\n",
      "__________________________________________________________________________________________________\n",
      "feature_transformation_block_2_ (None, 256)          1024        feature_transformation_block_2_1_\n",
      "__________________________________________________________________________________________________\n",
      "feature_transformation_block_2_ (None, 256)          0           feature_transformation_block_2_1_\n",
      "__________________________________________________________________________________________________\n",
      "feature_transformation_block_fi (None, 4096)         1052672     feature_transformation_block_2_1_\n",
      "__________________________________________________________________________________________________\n",
      "reshape_1 (Reshape)             (None, 64, 64)       0           feature_transformation_block_fina\n",
      "__________________________________________________________________________________________________\n",
      "feature_transformation_block_mm (None, 1024, 64)     0           second_block_relu[0][0]          \n",
      "                                                                 reshape_1[0][0]                  \n",
      "__________________________________________________________________________________________________\n",
      "third_block_conv (Conv1D)       (None, 1024, 64)     4160        feature_transformation_block_mm[0\n",
      "__________________________________________________________________________________________________\n",
      "third_block_batch_norm (BatchNo (None, 1024, 64)     256         third_block_conv[0][0]           \n",
      "__________________________________________________________________________________________________\n",
      "third_block_relu (Activation)   (None, 1024, 64)     0           third_block_batch_norm[0][0]     \n",
      "__________________________________________________________________________________________________\n",
      "fourth_block_conv (Conv1D)      (None, 1024, 128)    8320        third_block_relu[0][0]           \n",
      "__________________________________________________________________________________________________\n",
      "fourth_block_batch_norm (BatchN (None, 1024, 128)    512         fourth_block_conv[0][0]          \n",
      "__________________________________________________________________________________________________\n",
      "fourth_block_relu (Activation)  (None, 1024, 128)    0           fourth_block_batch_norm[0][0]    \n",
      "__________________________________________________________________________________________________\n",
      "pre_maxpool_block_conv (Conv1D) (None, 1024, 1024)   132096      fourth_block_relu[0][0]          \n",
      "__________________________________________________________________________________________________\n",
      "pre_maxpool_block_batch_norm (B (None, 1024, 1024)   4096        pre_maxpool_block_conv[0][0]     \n",
      "__________________________________________________________________________________________________\n",
      "pre_maxpool_block_relu (Activat (None, 1024, 1024)   0           pre_maxpool_block_batch_norm[0][0\n",
      "__________________________________________________________________________________________________\n",
      "global_features (MaxPooling1D)  (None, 1, 1024)      0           pre_maxpool_block_relu[0][0]     \n",
      "__________________________________________________________________________________________________\n",
      "tf.tile (TFOpLambda)            (None, 1024, 1024)   0           global_features[0][0]            \n",
      "__________________________________________________________________________________________________\n",
      "segmentation_input (Concatenate (None, 1024, 1088)   0           feature_transformation_block_mm[0\n",
      "                                                                 tf.tile[0][0]                    \n",
      "__________________________________________________________________________________________________\n",
      "first_seg_block_conv (Conv1D)   (None, 1024, 512)    557568      segmentation_input[0][0]         \n",
      "__________________________________________________________________________________________________\n",
      "first_seg_block_batch_norm (Bat (None, 1024, 512)    2048        first_seg_block_conv[0][0]       \n",
      "__________________________________________________________________________________________________\n",
      "first_seg_block_relu (Activatio (None, 1024, 512)    0           first_seg_block_batch_norm[0][0] \n",
      "__________________________________________________________________________________________________\n",
      "second_seg_block_conv (Conv1D)  (None, 1024, 256)    131328      first_seg_block_relu[0][0]       \n",
      "__________________________________________________________________________________________________\n",
      "second_seg_block_batch_norm (Ba (None, 1024, 256)    1024        second_seg_block_conv[0][0]      \n",
      "__________________________________________________________________________________________________\n",
      "second_seg_block_relu (Activati (None, 1024, 256)    0           second_seg_block_batch_norm[0][0]\n",
      "__________________________________________________________________________________________________\n",
      "third_seg_block_conv (Conv1D)   (None, 1024, 128)    32896       second_seg_block_relu[0][0]      \n",
      "__________________________________________________________________________________________________\n",
      "third_seg_block_batch_norm (Bat (None, 1024, 128)    512         third_seg_block_conv[0][0]       \n",
      "__________________________________________________________________________________________________\n",
      "third_seg_block_relu (Activatio (None, 1024, 128)    0           third_seg_block_batch_norm[0][0] \n",
      "__________________________________________________________________________________________________\n",
      "fourth_seg_block_conv (Conv1D)  (None, 1024, 128)    16512       third_seg_block_relu[0][0]       \n",
      "__________________________________________________________________________________________________\n",
      "fourth_seg_block_batch_norm (Ba (None, 1024, 128)    512         fourth_seg_block_conv[0][0]      \n",
      "__________________________________________________________________________________________________\n",
      "fourth_seg_block_relu (Activati (None, 1024, 128)    0           fourth_seg_block_batch_norm[0][0]\n",
      "__________________________________________________________________________________________________\n",
      "segmentation_head (Conv1D)      (None, 1024, 5)      645         fourth_seg_block_relu[0][0]      \n",
      "==================================================================================================\n",
      "Total params: 3,565,774\n",
      "Trainable params: 3,553,102\n",
      "Non-trainable params: 12,672\n",
      "__________________________________________________________________________________________________\n"
     ]
    }
   ],
   "source": [
    "baseline_segmentation_model = models.get_baseline_segmentation_model(\n",
    "    num_points, num_classes\n",
    ")\n",
    "baseline_segmentation_model.summary()"
   ]
  },
  {
   "cell_type": "code",
   "execution_count": 11,
   "metadata": {
    "id": "8aYirRwVSBeA"
   },
   "outputs": [],
   "source": [
    "initial_lr = 0.001\n",
    "momentum = 0.9\n",
    "epochs = 60  # Should be 200 as per https://github.com/charlesq34/pointnet/blob/master/part_seg/train.py#L19.\n",
    "drop_every = 20\n",
    "decay_factor = 0.5\n",
    "\n",
    "\n",
    "# Reference: https://www.pyimagesearch.com/2019/07/22/keras-learning-rate-schedules-and-decay/\n",
    "def lr_schedule(epoch):\n",
    "    exp = np.floor((1 + epoch) / drop_every)\n",
    "    new_lr = initial_lr * (decay_factor ** exp)\n",
    "    return new_lr\n",
    "\n",
    "\n",
    "lr_callback = tf.keras.callbacks.LearningRateScheduler(\n",
    "    lambda epoch: lr_schedule(epoch), verbose=True\n",
    ")"
   ]
  },
  {
   "cell_type": "code",
   "execution_count": null,
   "metadata": {
    "colab": {
     "base_uri": "https://localhost:8080/"
    },
    "id": "mqj7DifGUsVM",
    "outputId": "d5aecfc1-167d-4bf8-be6e-c23501211f11"
   },
   "outputs": [
    {
     "name": "stdout",
     "output_type": "stream",
     "text": [
      "WARNING:tensorflow:Model failed to serialize as JSON. Ignoring... <point_seg.pointnet.transform_block.OrthogonalRegularizer object at 0x7f1750364090> does not implement get_config()\n",
      "Epoch 1/60\n",
      "\n",
      "Epoch 00001: LearningRateScheduler setting learning rate to 0.001.\n",
      "12/93 [==>...........................] - ETA: 2:46 - loss: 4.7005"
     ]
    }
   ],
   "source": [
    "def run_experiment():\n",
    "    optimizer = tf.keras.optimizers.Adam(learning_rate=initial_lr)\n",
    "    baseline_segmentation_model = models.get_baseline_segmentation_model(\n",
    "        num_points, num_classes\n",
    "    )\n",
    "    baseline_segmentation_model.compile(\n",
    "        optimizer=optimizer, loss=\"categorical_crossentropy\"\n",
    "    )\n",
    "\n",
    "    logs_dir = f'logs_{datetime.utcnow().strftime(\"%y%m%d-%H%M%S\")}'\n",
    "    tb_callback = tf.keras.callbacks.TensorBoard(log_dir=logs_dir)\n",
    "\n",
    "    baseline_segmentation_model.fit(\n",
    "        train_dataset,\n",
    "        validation_data=val_dataset,\n",
    "        epochs=epochs,\n",
    "        callbacks=[tb_callback, lr_callback],\n",
    "    )\n",
    "\n",
    "\n",
    "run_experiment()"
   ]
  }
 ],
 "metadata": {
  "accelerator": "GPU",
  "colab": {
   "collapsed_sections": [],
   "machine_shape": "hm",
   "name": "baseline-segmentation-training.ipynb",
   "provenance": []
  },
  "kernelspec": {
   "display_name": "Python 3 (ipykernel)",
   "language": "python",
   "name": "python3"
  },
  "language_info": {
   "codemirror_mode": {
    "name": "ipython",
    "version": 3
   },
   "file_extension": ".py",
   "mimetype": "text/x-python",
   "name": "python",
   "nbconvert_exporter": "python",
   "pygments_lexer": "ipython3",
   "version": "3.8.2"
  }
 },
 "nbformat": 4,
 "nbformat_minor": 1
}
