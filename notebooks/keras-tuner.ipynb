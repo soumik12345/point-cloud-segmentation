{
 "cells": [
  {
   "cell_type": "code",
   "execution_count": null,
   "id": "ff0c0841",
   "metadata": {},
   "outputs": [],
   "source": [
    "!git clone https://github.com/soumik12345/point-cloud-segmentation\n",
    "!pip install -qqq wandb ml_collections keras_tuner"
   ]
  },
  {
   "cell_type": "code",
   "execution_count": null,
   "id": "a32c9959",
   "metadata": {},
   "outputs": [],
   "source": [
    "import sys\n",
    "\n",
    "sys.path.append(\"..\")"
   ]
  },
  {
   "cell_type": "code",
   "execution_count": null,
   "id": "e910877b",
   "metadata": {},
   "outputs": [],
   "source": [
    "import os\n",
    "\n",
    "from datetime import datetime\n",
    "\n",
    "from tensorflow.keras import optimizers, callbacks\n",
    "from tensorflow.keras import mixed_precision\n",
    "from keras_tuner import RandomSearch\n",
    "import wandb\n",
    "\n",
    "from point_seg import TFRecordLoader, ShapeNetCoreLoaderInMemory\n",
    "from point_seg import models, utils"
   ]
  },
  {
   "cell_type": "code",
   "execution_count": null,
   "id": "fd29e83c",
   "metadata": {},
   "outputs": [],
   "source": [
    "object_category = (\n",
    "    \"Airplane\"  # @param [\"Airplane\", \"Bag\", \"Car\", \"Chair\"] {type:\"string\"}\n",
    ")\n",
    "num_points = 1024  # @param {type:\"integer\"}"
   ]
  },
  {
   "cell_type": "code",
   "execution_count": null,
   "id": "c139d085",
   "metadata": {},
   "outputs": [],
   "source": [
    "timestamp = datetime.utcnow().strftime(\"%y%m%d-%H%M%S\")\n",
    "strategy = utils.initialize_device()\n",
    "batch_size = 32 * strategy.num_replicas_in_sync"
   ]
  },
  {
   "cell_type": "code",
   "execution_count": null,
   "id": "0504b1d9",
   "metadata": {},
   "outputs": [],
   "source": [
    "wandb.init(\n",
    "    project=\"pointnet_shapenet_core\",\n",
    "    name=f\"{object_category}_{timestamp}_tuning\",\n",
    "    entity=\"pointnet\",\n",
    "    sync_tensorboard=True,\n",
    ")"
   ]
  },
  {
   "cell_type": "code",
   "execution_count": null,
   "id": "cd4bba3a",
   "metadata": {},
   "outputs": [],
   "source": [
    "# Apply mixed-precision policy [OPTIONAL]\n",
    "mixed_precision.set_global_policy(\"mixed_float16\")\n",
    "policy = mixed_precision.global_policy()"
   ]
  },
  {
   "cell_type": "code",
   "execution_count": null,
   "id": "9d424711",
   "metadata": {},
   "outputs": [],
   "source": [
    "data_loader = ShapeNetCoreLoaderInMemory(\n",
    "    object_category=object_category, n_sampled_points=num_points,\n",
    ")\n",
    "data_loader.load_data()\n",
    "train_dataset, val_dataset = data_loader.get_datasets(\n",
    "    val_split=0.2, batch_size=batch_size,\n",
    ")"
   ]
  },
  {
   "cell_type": "code",
   "execution_count": null,
   "id": "f44be51f",
   "metadata": {},
   "outputs": [],
   "source": [
    "def sample_model(hp):\n",
    "    with strategy.scope():\n",
    "        _, y = next(iter(train_dataset))\n",
    "        num_classes = y.shape[-1]\n",
    "        model = models.get_shape_segmentation_model(num_points, num_classes)\n",
    "\n",
    "    model.compile(\n",
    "        optimizer=\"adam\", loss=\"categorical_crossentropy\", metrics=[\"accuracy\"]\n",
    "    )\n",
    "    return model\n",
    "\n",
    "\n",
    "class CustomTuner(RandomSearch):\n",
    "    def run_trial(self, trial, *args, **kwargs):\n",
    "        initial_lr = trial.hyperparameters.Float(\n",
    "            \"learning_rate\", 1e-4, 1e-2, sampling=\"log\", default=1e-3\n",
    "        )\n",
    "        drop_every = trial.hyperparameters.Choice(\"drop_lr_epoch\", values=[10, 15, 20])\n",
    "\n",
    "        lr_scheduler = utils.StepDecay(initial_lr, drop_every, decay_factor=0.5)\n",
    "        lr_callback = callbacks.LearningRateScheduler(\n",
    "            lambda epoch: lr_scheduler(epoch), verbose=True\n",
    "        )\n",
    "        tb_callback = callbacks.TensorBoard(log_dir=wandb.run.dir)\n",
    "\n",
    "        epochs = trial.hyperparameters.Int(\n",
    "            \"epochs\", min_value=50, max_value=80, step=10\n",
    "        )\n",
    "\n",
    "        kwargs[\"epochs\"] = epochs\n",
    "        kwargs[\"callbacks\"] = [lr_callback, tb_callback]\n",
    "        super(CustomTuner, self).run_trial(trial, *args, **kwargs)"
   ]
  },
  {
   "cell_type": "code",
   "execution_count": null,
   "id": "3118bd48",
   "metadata": {},
   "outputs": [],
   "source": [
    "tb_callback = callbacks.TensorBoard(log_dir=wandb.run.dir)\n",
    "\n",
    "tuner = CustomTuner(\n",
    "    sample_model,\n",
    "    objective=\"val_accuracy\",\n",
    "    max_trials=10,\n",
    "    executions_per_trial=2,\n",
    "    overwrite=True,\n",
    "    directory=f\"{object_category}_{timestamp}\",\n",
    "    project_name=\"pointnet-segmentation\",\n",
    ")\n",
    "\n",
    "tuner.search(train_dataset, validation_data=val_dataset)"
   ]
  }
 ],
 "metadata": {
  "environment": {
   "name": "tf2-gpu.2-6.m81",
   "type": "gcloud",
   "uri": "gcr.io/deeplearning-platform-release/tf2-gpu.2-6:m81"
  },
  "kernelspec": {
   "display_name": "Python 3 (ipykernel)",
   "language": "python",
   "name": "python3"
  },
  "language_info": {
   "codemirror_mode": {
    "name": "ipython",
    "version": 3
   },
   "file_extension": ".py",
   "mimetype": "text/x-python",
   "name": "python",
   "nbconvert_exporter": "python",
   "pygments_lexer": "ipython3",
   "version": "3.8.2"
  }
 },
 "nbformat": 4,
 "nbformat_minor": 5
}
