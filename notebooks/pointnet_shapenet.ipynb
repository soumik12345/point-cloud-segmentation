{
 "cells": [
  {
   "cell_type": "markdown",
   "metadata": {
    "colab_type": "text",
    "id": "view-in-github"
   },
   "source": [
    "<a href=\"https://colab.research.google.com/github/soumik12345/point-cloud-segmentation/blob/dataloader-fix/notebooks/pointnet_shapenet.ipynb\" target=\"_parent\"><img src=\"https://colab.research.google.com/assets/colab-badge.svg\" alt=\"Open In Colab\"/></a>"
   ]
  },
  {
   "cell_type": "code",
   "execution_count": null,
   "metadata": {
    "id": "7e-qBjg3M4wF"
   },
   "outputs": [],
   "source": [
    "import os\n",
    "import json\n",
    "import random\n",
    "import numpy as np\n",
    "import pandas as pd\n",
    "from tqdm import tqdm\n",
    "from glob import glob\n",
    "import tensorflow as tf\n",
    "import plotly.express as px\n",
    "import matplotlib.pyplot as plt\n",
    "from sklearn.preprocessing import LabelEncoder"
   ]
  },
  {
   "cell_type": "code",
   "execution_count": null,
   "metadata": {
    "id": "myreECLWOu2N"
   },
   "outputs": [],
   "source": [
    "dataset_url = 'https://github.com/soumik12345/point-cloud-segmentation/releases/download/v0.1/shapenet.zip'\n",
    "\n",
    "dataset_path = tf.keras.utils.get_file(\n",
    "    fname='shapenet.zip', origin=dataset_url,\n",
    "    cache_subdir='datasets', hash_algorithm='auto',\n",
    "    extract=True, archive_format='auto', cache_dir='datasets'\n",
    ")"
   ]
  },
  {
   "cell_type": "code",
   "execution_count": null,
   "metadata": {
    "colab": {
     "base_uri": "https://localhost:8080/"
    },
    "id": "igDu0yp6gL8I",
    "outputId": "9401cc49-4973-4580-8d9b-e3cb8c7d2489"
   },
   "outputs": [],
   "source": [
    "with open('/tmp/.keras/datasets/PartAnnotation/metadata.json') as json_file:\n",
    "    metadata = json.load(json_file)\n",
    "\n",
    "metadata"
   ]
  },
  {
   "cell_type": "code",
   "execution_count": null,
   "metadata": {
    "id": "k4lhjkqhNhjO"
   },
   "outputs": [],
   "source": [
    "points_dir = '/tmp/.keras/datasets/PartAnnotation/{}/points'.format(metadata['Airplane']['directory'])\n",
    "labels_dir = '/tmp/.keras/datasets/PartAnnotation/{}/points_label'.format(metadata['Airplane']['directory'])\n",
    "LABELS = metadata[\"Airplane\"][\"lables\"]\n",
    "COLORS = metadata[\"Airplane\"][\"colors\"]\n",
    "VAL_SPLIT = 0.2\n",
    "N_SAMPLE_POINTS = 1024"
   ]
  },
  {
   "cell_type": "code",
   "execution_count": null,
   "metadata": {
    "colab": {
     "base_uri": "https://localhost:8080/"
    },
    "id": "TQWMQW3hiVmB",
    "outputId": "fdeaccea-a417-4b2f-cfb3-959f3680fd3e"
   },
   "outputs": [],
   "source": [
    "label_encoder = LabelEncoder()\n",
    "label_encoder.fit(LABELS + ['none'])\n",
    "label_encoder.classes_"
   ]
  },
  {
   "cell_type": "code",
   "execution_count": null,
   "metadata": {
    "colab": {
     "base_uri": "https://localhost:8080/"
    },
    "id": "78KD2HHfM0sh",
    "outputId": "757667bd-2117-48f2-d699-2f130cb6d89e"
   },
   "outputs": [],
   "source": [
    "point_clouds, test_point_clouds = [], []\n",
    "point_cloud_labels, all_labels = [], []\n",
    "\n",
    "points_files = glob(os.path.join(points_dir, '*.pts'))\n",
    "for point_file in tqdm(points_files):\n",
    "    point_cloud = np.loadtxt(point_file)\n",
    "    file_id = point_file.split(\"/\")[-1].split(\".\")[0]\n",
    "    label_data, num_labels = {}, 0\n",
    "    for label in LABELS:\n",
    "        label_file = os.path.join(labels_dir, label, file_id + \".seg\")\n",
    "        if os.path.exists(label_file):\n",
    "            label_data[label] = np.loadtxt(label_file).astype(\"float32\")\n",
    "            num_labels = len(label_data[label])\n",
    "    try:\n",
    "        label_map = [\"none\"] * num_labels\n",
    "        for label in LABELS:\n",
    "            for i, data in enumerate(label_data[label]):\n",
    "                label_map[i] = label if data == 1 else label_map[i]\n",
    "        # label_data = label_encoder.transform(label_map)\n",
    "        label_data = [LABELS.index(label) if label != 'none' else len(LABELS) for label in label_map]\n",
    "        label_data = tf.keras.utils.to_categorical(label_data, num_classes=len(LABELS) + 1)\n",
    "        point_clouds.append(point_cloud)\n",
    "        point_cloud_labels.append(label_data)\n",
    "        all_labels.append(label_map)\n",
    "    except KeyError:\n",
    "        # Use point cloud files without labels as test data\n",
    "        test_point_clouds.append(point_cloud)"
   ]
  },
  {
   "cell_type": "code",
   "execution_count": null,
   "metadata": {
    "colab": {
     "base_uri": "https://localhost:8080/"
    },
    "id": "JUNT9p5rsiSx",
    "outputId": "88d58512-65f0-4782-cf47-9f53c5e19a2f"
   },
   "outputs": [],
   "source": []
  },
  {
   "cell_type": "markdown",
   "metadata": {
    "id": "dgwncBnM9iIx"
   },
   "source": [
    "`point_clouds` is basically a list of np.array that represents the point cloud data in the form of x, y and z coordinate. The axis 0 represents the number of points the ith point cloud has while the axis 1 represents the coordinates. `all_labels` is the list that represent the label of each coordinate at a string and is needed mainly for visualization purposes.\n",
    "\n",
    "`test_point_clouds` are in the same format as `point_clouds`, just that they don't have correspoint labels associated with them.\n",
    "\n",
    "`point_cloud_labels` is basically a list of np.array that represents the point cloud labels for each coordinate in one-hot encoded form corresponding to the `point_clouds` list. The axis 0 represents the number of points the ith point cloud has while the axis 1 represents the one-hot encoded labels for that particular coordinate."
   ]
  },
  {
   "cell_type": "code",
   "execution_count": null,
   "metadata": {
    "colab": {
     "base_uri": "https://localhost:8080/"
    },
    "id": "jxE5V-az-_Qs",
    "outputId": "4d73b877-d1e6-402c-c7bb-a58014d1b120"
   },
   "outputs": [],
   "source": [
    "for _ in range(10):\n",
    "    i = random.randint(0, len(point_clouds) - 1)\n",
    "    print(f'point_clouds[{i}].shape:', point_clouds[0].shape)\n",
    "    print(f'point_cloud_labels[{i}].shape:', point_cloud_labels[0].shape)\n",
    "    for j in range(5):\n",
    "        print(\n",
    "            f'all_labels[{i}][{j}]:', all_labels[i][j],\n",
    "            f'\\tpoint_cloud_labels[{i}][{j}]:', point_cloud_labels[i][j], '\\n'\n",
    "        )"
   ]
  },
  {
   "cell_type": "code",
   "execution_count": null,
   "metadata": {
    "id": "ahoUya9nXBB0"
   },
   "outputs": [],
   "source": [
    "def visualize_data_plotly(point_cloud, labels):\n",
    "    fig = px.scatter_3d(\n",
    "        pd.DataFrame(\n",
    "            data={\n",
    "                'x': point_cloud[:, 0],\n",
    "                'y': point_cloud[:, 1],\n",
    "                'z': point_cloud[:, 2],\n",
    "                'label': labels\n",
    "            }\n",
    "        ), x=\"x\", y=\"y\", z=\"z\",\n",
    "        color=\"label\", labels={\"label\": \"Label\"},\n",
    "        color_discrete_sequence=COLORS,\n",
    "        category_orders={\"label\": LABELS}\n",
    "    )\n",
    "    fig.show()"
   ]
  },
  {
   "cell_type": "code",
   "execution_count": null,
   "metadata": {
    "id": "8-fM4GbDAW0V"
   },
   "outputs": [],
   "source": [
    "def visualize_data_plt(point_cloud, labels):\n",
    "    df = pd.DataFrame(\n",
    "        data={\n",
    "            'x': point_cloud[:, 0],\n",
    "            'y': point_cloud[:, 1],\n",
    "            'z': point_cloud[:, 2],\n",
    "            'label': labels,\n",
    "        }\n",
    "    )\n",
    "    fig = plt.figure(figsize=(15, 10))\n",
    "    ax = plt.axes(projection='3d')  \n",
    "    for index, label in enumerate(LABELS):\n",
    "        c_df = df[df['label'] == label]\n",
    "        try:\n",
    "            ax.scatter(\n",
    "                c_df['x'], c_df['y'], c_df['z'],\n",
    "                label=label, alpha = 0.5, c=COLORS[index]\n",
    "            ) \n",
    "        except IndexError:\n",
    "            pass\n",
    "    ax.legend()\n",
    "    plt.show()"
   ]
  },
  {
   "cell_type": "code",
   "execution_count": null,
   "metadata": {
    "colab": {
     "base_uri": "https://localhost:8080/",
     "height": 1000
    },
    "id": "XAYUkz-NVjLe",
    "outputId": "dd5c4972-2890-416c-e36e-e313629b95bf"
   },
   "outputs": [],
   "source": [
    "visualize_data_plt(point_clouds[0], all_labels[0])\n",
    "visualize_data_plt(point_clouds[300], all_labels[300])"
   ]
  },
  {
   "cell_type": "code",
   "execution_count": null,
   "metadata": {
    "colab": {
     "base_uri": "https://localhost:8080/",
     "height": 1000
    },
    "id": "Zh6r3DEsIN4O",
    "outputId": "271e5898-0c45-4d61-ce88-2acb408d6dbb"
   },
   "outputs": [],
   "source": [
    "visualize_data_plotly(point_clouds[0], all_labels[0])\n",
    "visualize_data_plotly(point_clouds[300], all_labels[300])"
   ]
  },
  {
   "cell_type": "code",
   "execution_count": null,
   "metadata": {
    "colab": {
     "base_uri": "https://localhost:8080/"
    },
    "id": "7GCDtLZGzgir",
    "outputId": "f53518a2-0d22-4131-e00f-f8846c016e39"
   },
   "outputs": [],
   "source": [
    "for index in tqdm(range(len(point_clouds))):\n",
    "    current_point_cloud = point_clouds[index]\n",
    "    current_label_cloud = point_cloud_labels[index]\n",
    "    current_labels = all_labels[index]\n",
    "    n_points = len(current_point_cloud)\n",
    "    # Randomly sampling respective indices\n",
    "    sampled_indices = random.sample(list(range(n_points)), N_SAMPLE_POINTS)\n",
    "    # Sampling points corresponding to sampled indices\n",
    "    sampled_point_cloud = np.array([current_point_cloud[i] for i in sampled_indices])\n",
    "    # Sampling corresponding one-hot encoded labels\n",
    "    sampled_label_cloud = np.array([current_label_cloud[i] for i in sampled_indices])\n",
    "    # Sampling corresponding labels for visualization\n",
    "    sampled_labels = np.array([current_labels[i] for i in sampled_indices])\n",
    "    # Normalizing sampled point cloud\n",
    "    norm_point_cloud = sampled_point_cloud - np.mean(sampled_point_cloud, axis=0)\n",
    "    norm_point_cloud /= np.max(np.linalg.norm(norm_point_cloud, axis=1))\n",
    "    point_clouds[index] = norm_point_cloud\n",
    "    point_cloud_labels[index] = sampled_label_cloud\n",
    "    all_labels[index] = sampled_labels"
   ]
  },
  {
   "cell_type": "code",
   "execution_count": null,
   "metadata": {
    "colab": {
     "base_uri": "https://localhost:8080/",
     "height": 1000
    },
    "id": "ZTEzxEwPztpT",
    "outputId": "c78e04bb-3f25-44ac-ed2c-4ff12353a1ef"
   },
   "outputs": [],
   "source": [
    "visualize_data_plt(point_clouds[0], all_labels[0])\n",
    "visualize_data_plt(point_clouds[300], all_labels[300])"
   ]
  },
  {
   "cell_type": "code",
   "execution_count": null,
   "metadata": {
    "colab": {
     "base_uri": "https://localhost:8080/",
     "height": 1000
    },
    "id": "mVcQnSnSz0rE",
    "outputId": "a210476e-8877-4b24-f6a4-bff171a42d03"
   },
   "outputs": [],
   "source": [
    "visualize_data_plotly(point_clouds[0], all_labels[0])\n",
    "visualize_data_plotly(point_clouds[300], all_labels[300])"
   ]
  },
  {
   "cell_type": "code",
   "execution_count": null,
   "metadata": {
    "colab": {
     "base_uri": "https://localhost:8080/"
    },
    "id": "kq9qbBO4J50E",
    "outputId": "0191b900-c370-4996-acb2-69b26210fd81"
   },
   "outputs": [],
   "source": [
    "split_index = int(len(point_clouds) * (1 - VAL_SPLIT))\n",
    "train_point_clouds = point_clouds[:split_index]\n",
    "train_point_cloud_labels = point_cloud_labels[:split_index]\n",
    "\n",
    "val_point_clouds = point_clouds[split_index:]\n",
    "val_point_cloud_labels = point_cloud_labels[split_index:]\n",
    "\n",
    "print('Num train point clouds:', len(train_point_clouds))\n",
    "print('Num train point cloud labels:', len(train_point_cloud_labels))\n",
    "print('Num val point clouds:', len(val_point_clouds))\n",
    "print('Num val point cloud labels:', len(val_point_cloud_labels))"
   ]
  },
  {
   "cell_type": "code",
   "execution_count": null,
   "metadata": {
    "id": "SHe9tE8NqDb3"
   },
   "outputs": [],
   "source": []
  }
 ],
 "metadata": {
  "colab": {
   "authorship_tag": "ABX9TyNM3tvNzyQ4VpeQ039Hs1yf",
   "collapsed_sections": [],
   "include_colab_link": true,
   "name": "pointnet_shapenet.ipynb",
   "provenance": []
  },
  "kernelspec": {
   "display_name": "Python 3 (ipykernel)",
   "language": "python",
   "name": "python3"
  },
  "language_info": {
   "codemirror_mode": {
    "name": "ipython",
    "version": 3
   },
   "file_extension": ".py",
   "mimetype": "text/x-python",
   "name": "python",
   "nbconvert_exporter": "python",
   "pygments_lexer": "ipython3",
   "version": "3.8.10"
  }
 },
 "nbformat": 4,
 "nbformat_minor": 1
}
