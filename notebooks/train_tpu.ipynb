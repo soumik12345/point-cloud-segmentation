{
 "cells": [
  {
   "cell_type": "markdown",
   "metadata": {
    "colab_type": "text",
    "id": "view-in-github"
   },
   "source": [
    "<a href=\"https://colab.research.google.com/github/soumik12345/point-cloud-segmentation/blob/inference/notebooks/train_tpu.ipynb\" target=\"_parent\"><img src=\"https://colab.research.google.com/assets/colab-badge.svg\" alt=\"Open In Colab\"/></a>"
   ]
  },
  {
   "cell_type": "code",
   "execution_count": null,
   "metadata": {
    "colab": {
     "base_uri": "https://localhost:8080/"
    },
    "id": "YGAv2WA0Oqhx",
    "outputId": "6ec8273e-455a-4d4d-e85f-d1ee930923d9"
   },
   "outputs": [],
   "source": [
    "!git clone https://github.com/soumik12345/point-cloud-segmentation"
   ]
  },
  {
   "cell_type": "code",
   "execution_count": null,
   "metadata": {
    "colab": {
     "base_uri": "https://localhost:8080/"
    },
    "id": "jGRP-625PcYv",
    "outputId": "a122434f-2cec-48d0-f588-ccfc8aec8a94"
   },
   "outputs": [],
   "source": [
    "!pip install -qqq wandb ml_collections"
   ]
  },
  {
   "cell_type": "code",
   "execution_count": null,
   "metadata": {
    "id": "ggyW4YbIOpem"
   },
   "outputs": [],
   "source": [
    "import sys\n",
    "\n",
    "sys.path.append(\"point-cloud-segmentation\")"
   ]
  },
  {
   "cell_type": "code",
   "execution_count": null,
   "metadata": {
    "id": "wCy0w51v63Ux"
   },
   "outputs": [],
   "source": [
    "from google.colab import auth\n",
    "auth.authenticate_user()"
   ]
  },
  {
   "cell_type": "code",
   "execution_count": null,
   "metadata": {
    "id": "PIIimZrg6-Su"
   },
   "outputs": [],
   "source": [
    "import os\n",
    "\n",
    "import wandb\n",
    "import wandb.keras\n",
    "from datetime import datetime\n",
    "\n",
    "from tensorflow.keras import optimizers, callbacks\n",
    "from tensorflow.keras import mixed_precision\n",
    "\n",
    "from point_seg import TFRecordLoader, ShapeNetCoreLoaderInMemory\n",
    "from point_seg import models, utils"
   ]
  },
  {
   "cell_type": "code",
   "execution_count": null,
   "metadata": {
    "id": "r4fkHiX5RU-U"
   },
   "outputs": [],
   "source": [
    "#@title Configs\n",
    "#@markdown Get your `wandb_api_key` from https://wandb.ai/authorize.\n",
    "wandb_api_key = \"\" #@param {type:\"string\"}\n",
    "object_category = \"Airplane\" #@param [\"Airplane\", \"Bag\", \"Cap\", \"Car\", \"Chair\", \"Earphone\", \"Guitar\", \"Knife\", \"Lamp\", \"Laptop\", \"Motorbike\", \"Mug\", \"Pistol\", \"Rocket\", \"Skateboard\", \"Table\"] {type:\"raw\"}\n",
    "num_points = 1024 #@param {type:\"integer\"}\n",
    "batch_size = 32 #@param {type:\"integer\"}\n",
    "epochs = 100 #@param {type:\"integer\"}\n",
    "artifact_location = \"gs://pointnet-segmentation\" #@param {type:\"string\"}\n",
    "initial_lr = 1e-3 #@param {type:\"number\"}\n",
    "drop_every = 10 #@param {type:\"integer\"}\n",
    "decay_factor = 0.5 #@param {type:\"number\"}"
   ]
  },
  {
   "cell_type": "code",
   "execution_count": null,
   "metadata": {
    "colab": {
     "base_uri": "https://localhost:8080/"
    },
    "id": "ebp9-JscPu0t",
    "outputId": "d026dfd3-6e48-422c-9439-2a1d205e2c85"
   },
   "outputs": [],
   "source": [
    "timestamp = datetime.utcnow().strftime(\"%y%m%d-%H%M%S\")\n",
    "strategy = utils.initialize_device()\n",
    "batch_size = 32 * strategy.num_replicas_in_sync"
   ]
  },
  {
   "cell_type": "code",
   "execution_count": null,
   "metadata": {
    "colab": {
     "base_uri": "https://localhost:8080/",
     "height": 73
    },
    "id": "2o494b3aQTi_",
    "outputId": "88cf51df-4280-4604-9387-46c169e1acf7"
   },
   "outputs": [],
   "source": [
    "wandb.init(\n",
    "    project='pointnet_shapenet_core',\n",
    "    name=f\"{object_category}_{timestamp}\",\n",
    "    entity=\"pointnet\",\n",
    ")"
   ]
  },
  {
   "cell_type": "code",
   "execution_count": null,
   "metadata": {
    "id": "tzXnM-4-SHkd"
   },
   "outputs": [],
   "source": [
    "tfrecord_loader = TFRecordLoader(\n",
    "    tfrecord_dir=os.path.join(\n",
    "        artifact_location, \"tfrecords\"\n",
    "    ),\n",
    "    object_category=object_category,\n",
    ")\n",
    "train_dataset, val_dataset = tfrecord_loader.get_datasets(\n",
    "    batch_size=batch_size, drop_remainder=True\n",
    ")"
   ]
  },
  {
   "cell_type": "code",
   "execution_count": null,
   "metadata": {
    "id": "gSIGOMEcSJb0"
   },
   "outputs": [],
   "source": [
    "lr_scheduler = utils.StepDecay(initial_lr, drop_every, decay_factor)\n",
    "lr_callback = callbacks.LearningRateScheduler(\n",
    "    lambda epoch: lr_scheduler(epoch), verbose=True\n",
    ")\n",
    "\n",
    "# Tensorboard Callback\n",
    "logs_dir = os.path.join(\n",
    "    \"logs\", f\"{object_category}_{timestamp}\"\n",
    ")\n",
    "logs_dir = os.path.join(artifact_location, logs_dir)\n",
    "tb_callback = callbacks.TensorBoard(log_dir=logs_dir)\n",
    "\n",
    "# ModelCheckpoint Callback\n",
    "checkpoint_path = os.path.join(\n",
    "    artifact_location,\n",
    "    \"training_checkpoints\",\n",
    "    f\"{object_category}_{timestamp}\",\n",
    ")\n",
    "checkpoint_callback = callbacks.ModelCheckpoint(\n",
    "    filepath=checkpoint_path, save_best_only=True, save_weights_only=True,\n",
    ")\n",
    "\n",
    "callback_list = [\n",
    "    tb_callback,\n",
    "    checkpoint_callback,\n",
    "    lr_callback,\n",
    "    wandb.keras.WandbCallback()\n",
    "]"
   ]
  },
  {
   "cell_type": "code",
   "execution_count": null,
   "metadata": {
    "id": "zfLgneWDThJz"
   },
   "outputs": [],
   "source": [
    "with strategy.scope():\n",
    "    optimizer = optimizers.Adam(learning_rate=initial_lr)\n",
    "    _, y = next(iter(train_dataset))\n",
    "    num_classes = y.shape[-1]\n",
    "    model = models.get_shape_segmentation_model(num_points, num_classes)\n",
    "\n",
    "model.compile(\n",
    "    optimizer=optimizer, loss=\"categorical_crossentropy\", metrics=[\"accuracy\"]\n",
    ")\n"
   ]
  },
  {
   "cell_type": "code",
   "execution_count": null,
   "metadata": {
    "colab": {
     "base_uri": "https://localhost:8080/"
    },
    "id": "V0Ebf6RKT2hh",
    "outputId": "10a3733e-bc47-471e-c4ec-608a70e61cc9"
   },
   "outputs": [],
   "source": [
    "model.fit(\n",
    "    train_dataset,\n",
    "    validation_data=val_dataset,\n",
    "    epochs=epochs,\n",
    "    callbacks=callback_list,\n",
    ")"
   ]
  },
  {
   "cell_type": "code",
   "execution_count": null,
   "metadata": {
    "colab": {
     "base_uri": "https://localhost:8080/"
    },
    "id": "9nHPyWddUwYB",
    "outputId": "a1a6dfd5-3287-4310-b4a1-c10c7c80f5fc"
   },
   "outputs": [],
   "source": [
    "serialization_path = os.path.join(\n",
    "    artifact_location, \"final_models\",\n",
    "    f\"{object_category}_{timestamp}\",\n",
    ")\n",
    "model.load_weights(checkpoint_path)\n",
    "model.save(serialization_path)"
   ]
  },
  {
   "cell_type": "code",
   "execution_count": null,
   "metadata": {
    "id": "64JKVbSRWrEo"
   },
   "outputs": [],
   "source": []
  }
 ],
 "metadata": {
  "accelerator": "TPU",
  "colab": {
   "authorship_tag": "ABX9TyOwZnL2E8uKWOGLgjAi/BC4",
   "collapsed_sections": [],
   "include_colab_link": true,
   "machine_shape": "hm",
   "name": "train_tpu.ipynb",
   "provenance": []
  },
  "kernelspec": {
   "display_name": "Python 3.8.10 64-bit ('venv': venv)",
   "language": "python",
   "name": "python3810jvsc74a57bd0e1481d7476791d7dffc4b9aaa732c76db9ac4285594776315d54910f59520b61"
  },
  "language_info": {
   "name": "python",
   "version": ""
  }
 },
 "nbformat": 4,
 "nbformat_minor": 1
}