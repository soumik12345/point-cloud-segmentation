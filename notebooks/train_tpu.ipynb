{
  "nbformat": 4,
  "nbformat_minor": 0,
  "metadata": {
    "colab": {
      "name": "train_tpu.ipynb",
      "provenance": [],
      "collapsed_sections": [],
      "machine_shape": "hm",
      "authorship_tag": "ABX9TyOwZnL2E8uKWOGLgjAi/BC4",
      "include_colab_link": true
    },
    "kernelspec": {
      "name": "python3",
      "display_name": "Python 3"
    },
    "language_info": {
      "name": "python"
    },
    "accelerator": "TPU"
  },
  "cells": [
    {
      "cell_type": "markdown",
      "metadata": {
        "id": "view-in-github",
        "colab_type": "text"
      },
      "source": [
        "<a href=\"https://colab.research.google.com/github/soumik12345/point-cloud-segmentation/blob/inference/notebooks/train_tpu.ipynb\" target=\"_parent\"><img src=\"https://colab.research.google.com/assets/colab-badge.svg\" alt=\"Open In Colab\"/></a>"
      ]
    },
    {
      "cell_type": "code",
      "metadata": {
        "colab": {
          "base_uri": "https://localhost:8080/"
        },
        "id": "YGAv2WA0Oqhx",
        "outputId": "6ec8273e-455a-4d4d-e85f-d1ee930923d9"
      },
      "source": [
        "!git clone https://github.com/soumik12345/point-cloud-segmentation"
      ],
      "execution_count": 1,
      "outputs": [
        {
          "output_type": "stream",
          "name": "stdout",
          "text": [
            "Cloning into 'point-cloud-segmentation'...\n",
            "remote: Enumerating objects: 726, done.\u001b[K\n",
            "remote: Counting objects: 100% (726/726), done.\u001b[K\n",
            "remote: Compressing objects: 100% (456/456), done.\u001b[K\n",
            "remote: Total 726 (delta 425), reused 483 (delta 224), pack-reused 0\u001b[K\n",
            "Receiving objects: 100% (726/726), 2.98 MiB | 14.81 MiB/s, done.\n",
            "Resolving deltas: 100% (425/425), done.\n"
          ]
        }
      ]
    },
    {
      "cell_type": "code",
      "metadata": {
        "colab": {
          "base_uri": "https://localhost:8080/"
        },
        "id": "jGRP-625PcYv",
        "outputId": "a122434f-2cec-48d0-f588-ccfc8aec8a94"
      },
      "source": [
        "!pip install -qqq wandb ml_collections"
      ],
      "execution_count": 1,
      "outputs": [
        {
          "output_type": "stream",
          "name": "stdout",
          "text": [
            "\u001b[?25l\r\u001b[K     |▏                               | 10 kB 30.8 MB/s eta 0:00:01\r\u001b[K     |▍                               | 20 kB 24.2 MB/s eta 0:00:01\r\u001b[K     |▋                               | 30 kB 11.9 MB/s eta 0:00:01\r\u001b[K     |▉                               | 40 kB 9.4 MB/s eta 0:00:01\r\u001b[K     |█                               | 51 kB 5.4 MB/s eta 0:00:01\r\u001b[K     |█▏                              | 61 kB 5.9 MB/s eta 0:00:01\r\u001b[K     |█▍                              | 71 kB 5.7 MB/s eta 0:00:01\r\u001b[K     |█▋                              | 81 kB 6.4 MB/s eta 0:00:01\r\u001b[K     |█▊                              | 92 kB 4.7 MB/s eta 0:00:01\r\u001b[K     |██                              | 102 kB 5.2 MB/s eta 0:00:01\r\u001b[K     |██▏                             | 112 kB 5.2 MB/s eta 0:00:01\r\u001b[K     |██▍                             | 122 kB 5.2 MB/s eta 0:00:01\r\u001b[K     |██▌                             | 133 kB 5.2 MB/s eta 0:00:01\r\u001b[K     |██▊                             | 143 kB 5.2 MB/s eta 0:00:01\r\u001b[K     |███                             | 153 kB 5.2 MB/s eta 0:00:01\r\u001b[K     |███▏                            | 163 kB 5.2 MB/s eta 0:00:01\r\u001b[K     |███▎                            | 174 kB 5.2 MB/s eta 0:00:01\r\u001b[K     |███▌                            | 184 kB 5.2 MB/s eta 0:00:01\r\u001b[K     |███▊                            | 194 kB 5.2 MB/s eta 0:00:01\r\u001b[K     |████                            | 204 kB 5.2 MB/s eta 0:00:01\r\u001b[K     |████                            | 215 kB 5.2 MB/s eta 0:00:01\r\u001b[K     |████▎                           | 225 kB 5.2 MB/s eta 0:00:01\r\u001b[K     |████▌                           | 235 kB 5.2 MB/s eta 0:00:01\r\u001b[K     |████▊                           | 245 kB 5.2 MB/s eta 0:00:01\r\u001b[K     |████▉                           | 256 kB 5.2 MB/s eta 0:00:01\r\u001b[K     |█████                           | 266 kB 5.2 MB/s eta 0:00:01\r\u001b[K     |█████▎                          | 276 kB 5.2 MB/s eta 0:00:01\r\u001b[K     |█████▌                          | 286 kB 5.2 MB/s eta 0:00:01\r\u001b[K     |█████▋                          | 296 kB 5.2 MB/s eta 0:00:01\r\u001b[K     |█████▉                          | 307 kB 5.2 MB/s eta 0:00:01\r\u001b[K     |██████                          | 317 kB 5.2 MB/s eta 0:00:01\r\u001b[K     |██████▎                         | 327 kB 5.2 MB/s eta 0:00:01\r\u001b[K     |██████▍                         | 337 kB 5.2 MB/s eta 0:00:01\r\u001b[K     |██████▋                         | 348 kB 5.2 MB/s eta 0:00:01\r\u001b[K     |██████▉                         | 358 kB 5.2 MB/s eta 0:00:01\r\u001b[K     |███████                         | 368 kB 5.2 MB/s eta 0:00:01\r\u001b[K     |███████▏                        | 378 kB 5.2 MB/s eta 0:00:01\r\u001b[K     |███████▍                        | 389 kB 5.2 MB/s eta 0:00:01\r\u001b[K     |███████▋                        | 399 kB 5.2 MB/s eta 0:00:01\r\u001b[K     |███████▉                        | 409 kB 5.2 MB/s eta 0:00:01\r\u001b[K     |████████                        | 419 kB 5.2 MB/s eta 0:00:01\r\u001b[K     |████████▏                       | 430 kB 5.2 MB/s eta 0:00:01\r\u001b[K     |████████▍                       | 440 kB 5.2 MB/s eta 0:00:01\r\u001b[K     |████████▋                       | 450 kB 5.2 MB/s eta 0:00:01\r\u001b[K     |████████▊                       | 460 kB 5.2 MB/s eta 0:00:01\r\u001b[K     |█████████                       | 471 kB 5.2 MB/s eta 0:00:01\r\u001b[K     |█████████▏                      | 481 kB 5.2 MB/s eta 0:00:01\r\u001b[K     |█████████▍                      | 491 kB 5.2 MB/s eta 0:00:01\r\u001b[K     |█████████▌                      | 501 kB 5.2 MB/s eta 0:00:01\r\u001b[K     |█████████▊                      | 512 kB 5.2 MB/s eta 0:00:01\r\u001b[K     |██████████                      | 522 kB 5.2 MB/s eta 0:00:01\r\u001b[K     |██████████▏                     | 532 kB 5.2 MB/s eta 0:00:01\r\u001b[K     |██████████▎                     | 542 kB 5.2 MB/s eta 0:00:01\r\u001b[K     |██████████▌                     | 552 kB 5.2 MB/s eta 0:00:01\r\u001b[K     |██████████▊                     | 563 kB 5.2 MB/s eta 0:00:01\r\u001b[K     |███████████                     | 573 kB 5.2 MB/s eta 0:00:01\r\u001b[K     |███████████                     | 583 kB 5.2 MB/s eta 0:00:01\r\u001b[K     |███████████▎                    | 593 kB 5.2 MB/s eta 0:00:01\r\u001b[K     |███████████▌                    | 604 kB 5.2 MB/s eta 0:00:01\r\u001b[K     |███████████▊                    | 614 kB 5.2 MB/s eta 0:00:01\r\u001b[K     |███████████▉                    | 624 kB 5.2 MB/s eta 0:00:01\r\u001b[K     |████████████                    | 634 kB 5.2 MB/s eta 0:00:01\r\u001b[K     |████████████▎                   | 645 kB 5.2 MB/s eta 0:00:01\r\u001b[K     |████████████▌                   | 655 kB 5.2 MB/s eta 0:00:01\r\u001b[K     |████████████▋                   | 665 kB 5.2 MB/s eta 0:00:01\r\u001b[K     |████████████▉                   | 675 kB 5.2 MB/s eta 0:00:01\r\u001b[K     |█████████████                   | 686 kB 5.2 MB/s eta 0:00:01\r\u001b[K     |█████████████▎                  | 696 kB 5.2 MB/s eta 0:00:01\r\u001b[K     |█████████████▍                  | 706 kB 5.2 MB/s eta 0:00:01\r\u001b[K     |█████████████▋                  | 716 kB 5.2 MB/s eta 0:00:01\r\u001b[K     |█████████████▉                  | 727 kB 5.2 MB/s eta 0:00:01\r\u001b[K     |██████████████                  | 737 kB 5.2 MB/s eta 0:00:01\r\u001b[K     |██████████████▏                 | 747 kB 5.2 MB/s eta 0:00:01\r\u001b[K     |██████████████▍                 | 757 kB 5.2 MB/s eta 0:00:01\r\u001b[K     |██████████████▋                 | 768 kB 5.2 MB/s eta 0:00:01\r\u001b[K     |██████████████▉                 | 778 kB 5.2 MB/s eta 0:00:01\r\u001b[K     |███████████████                 | 788 kB 5.2 MB/s eta 0:00:01\r\u001b[K     |███████████████▏                | 798 kB 5.2 MB/s eta 0:00:01\r\u001b[K     |███████████████▍                | 808 kB 5.2 MB/s eta 0:00:01\r\u001b[K     |███████████████▋                | 819 kB 5.2 MB/s eta 0:00:01\r\u001b[K     |███████████████▊                | 829 kB 5.2 MB/s eta 0:00:01\r\u001b[K     |████████████████                | 839 kB 5.2 MB/s eta 0:00:01\r\u001b[K     |████████████████▏               | 849 kB 5.2 MB/s eta 0:00:01\r\u001b[K     |████████████████▍               | 860 kB 5.2 MB/s eta 0:00:01\r\u001b[K     |████████████████▌               | 870 kB 5.2 MB/s eta 0:00:01\r\u001b[K     |████████████████▊               | 880 kB 5.2 MB/s eta 0:00:01\r\u001b[K     |█████████████████               | 890 kB 5.2 MB/s eta 0:00:01\r\u001b[K     |█████████████████▏              | 901 kB 5.2 MB/s eta 0:00:01\r\u001b[K     |█████████████████▎              | 911 kB 5.2 MB/s eta 0:00:01\r\u001b[K     |█████████████████▌              | 921 kB 5.2 MB/s eta 0:00:01\r\u001b[K     |█████████████████▊              | 931 kB 5.2 MB/s eta 0:00:01\r\u001b[K     |██████████████████              | 942 kB 5.2 MB/s eta 0:00:01\r\u001b[K     |██████████████████              | 952 kB 5.2 MB/s eta 0:00:01\r\u001b[K     |██████████████████▎             | 962 kB 5.2 MB/s eta 0:00:01\r\u001b[K     |██████████████████▌             | 972 kB 5.2 MB/s eta 0:00:01\r\u001b[K     |██████████████████▊             | 983 kB 5.2 MB/s eta 0:00:01\r\u001b[K     |██████████████████▉             | 993 kB 5.2 MB/s eta 0:00:01\r\u001b[K     |███████████████████             | 1.0 MB 5.2 MB/s eta 0:00:01\r\u001b[K     |███████████████████▎            | 1.0 MB 5.2 MB/s eta 0:00:01\r\u001b[K     |███████████████████▌            | 1.0 MB 5.2 MB/s eta 0:00:01\r\u001b[K     |███████████████████▋            | 1.0 MB 5.2 MB/s eta 0:00:01\r\u001b[K     |███████████████████▉            | 1.0 MB 5.2 MB/s eta 0:00:01\r\u001b[K     |████████████████████            | 1.1 MB 5.2 MB/s eta 0:00:01\r\u001b[K     |████████████████████▎           | 1.1 MB 5.2 MB/s eta 0:00:01\r\u001b[K     |████████████████████▍           | 1.1 MB 5.2 MB/s eta 0:00:01\r\u001b[K     |████████████████████▋           | 1.1 MB 5.2 MB/s eta 0:00:01\r\u001b[K     |████████████████████▉           | 1.1 MB 5.2 MB/s eta 0:00:01\r\u001b[K     |█████████████████████           | 1.1 MB 5.2 MB/s eta 0:00:01\r\u001b[K     |█████████████████████▏          | 1.1 MB 5.2 MB/s eta 0:00:01\r\u001b[K     |█████████████████████▍          | 1.1 MB 5.2 MB/s eta 0:00:01\r\u001b[K     |█████████████████████▋          | 1.1 MB 5.2 MB/s eta 0:00:01\r\u001b[K     |█████████████████████▉          | 1.1 MB 5.2 MB/s eta 0:00:01\r\u001b[K     |██████████████████████          | 1.2 MB 5.2 MB/s eta 0:00:01\r\u001b[K     |██████████████████████▏         | 1.2 MB 5.2 MB/s eta 0:00:01\r\u001b[K     |██████████████████████▍         | 1.2 MB 5.2 MB/s eta 0:00:01\r\u001b[K     |██████████████████████▋         | 1.2 MB 5.2 MB/s eta 0:00:01\r\u001b[K     |██████████████████████▊         | 1.2 MB 5.2 MB/s eta 0:00:01\r\u001b[K     |███████████████████████         | 1.2 MB 5.2 MB/s eta 0:00:01\r\u001b[K     |███████████████████████▏        | 1.2 MB 5.2 MB/s eta 0:00:01\r\u001b[K     |███████████████████████▍        | 1.2 MB 5.2 MB/s eta 0:00:01\r\u001b[K     |███████████████████████▋        | 1.2 MB 5.2 MB/s eta 0:00:01\r\u001b[K     |███████████████████████▊        | 1.2 MB 5.2 MB/s eta 0:00:01\r\u001b[K     |████████████████████████        | 1.3 MB 5.2 MB/s eta 0:00:01\r\u001b[K     |████████████████████████▏       | 1.3 MB 5.2 MB/s eta 0:00:01\r\u001b[K     |████████████████████████▍       | 1.3 MB 5.2 MB/s eta 0:00:01\r\u001b[K     |████████████████████████▌       | 1.3 MB 5.2 MB/s eta 0:00:01\r\u001b[K     |████████████████████████▊       | 1.3 MB 5.2 MB/s eta 0:00:01\r\u001b[K     |█████████████████████████       | 1.3 MB 5.2 MB/s eta 0:00:01\r\u001b[K     |█████████████████████████▏      | 1.3 MB 5.2 MB/s eta 0:00:01\r\u001b[K     |█████████████████████████▎      | 1.3 MB 5.2 MB/s eta 0:00:01\r\u001b[K     |█████████████████████████▌      | 1.3 MB 5.2 MB/s eta 0:00:01\r\u001b[K     |█████████████████████████▊      | 1.4 MB 5.2 MB/s eta 0:00:01\r\u001b[K     |██████████████████████████      | 1.4 MB 5.2 MB/s eta 0:00:01\r\u001b[K     |██████████████████████████      | 1.4 MB 5.2 MB/s eta 0:00:01\r\u001b[K     |██████████████████████████▎     | 1.4 MB 5.2 MB/s eta 0:00:01\r\u001b[K     |██████████████████████████▌     | 1.4 MB 5.2 MB/s eta 0:00:01\r\u001b[K     |██████████████████████████▊     | 1.4 MB 5.2 MB/s eta 0:00:01\r\u001b[K     |██████████████████████████▉     | 1.4 MB 5.2 MB/s eta 0:00:01\r\u001b[K     |███████████████████████████     | 1.4 MB 5.2 MB/s eta 0:00:01\r\u001b[K     |███████████████████████████▎    | 1.4 MB 5.2 MB/s eta 0:00:01\r\u001b[K     |███████████████████████████▌    | 1.4 MB 5.2 MB/s eta 0:00:01\r\u001b[K     |███████████████████████████▋    | 1.5 MB 5.2 MB/s eta 0:00:01\r\u001b[K     |███████████████████████████▉    | 1.5 MB 5.2 MB/s eta 0:00:01\r\u001b[K     |████████████████████████████    | 1.5 MB 5.2 MB/s eta 0:00:01\r\u001b[K     |████████████████████████████▎   | 1.5 MB 5.2 MB/s eta 0:00:01\r\u001b[K     |████████████████████████████▍   | 1.5 MB 5.2 MB/s eta 0:00:01\r\u001b[K     |████████████████████████████▋   | 1.5 MB 5.2 MB/s eta 0:00:01\r\u001b[K     |████████████████████████████▉   | 1.5 MB 5.2 MB/s eta 0:00:01\r\u001b[K     |█████████████████████████████   | 1.5 MB 5.2 MB/s eta 0:00:01\r\u001b[K     |█████████████████████████████▏  | 1.5 MB 5.2 MB/s eta 0:00:01\r\u001b[K     |█████████████████████████████▍  | 1.5 MB 5.2 MB/s eta 0:00:01\r\u001b[K     |█████████████████████████████▋  | 1.6 MB 5.2 MB/s eta 0:00:01\r\u001b[K     |█████████████████████████████▉  | 1.6 MB 5.2 MB/s eta 0:00:01\r\u001b[K     |██████████████████████████████  | 1.6 MB 5.2 MB/s eta 0:00:01\r\u001b[K     |██████████████████████████████▏ | 1.6 MB 5.2 MB/s eta 0:00:01\r\u001b[K     |██████████████████████████████▍ | 1.6 MB 5.2 MB/s eta 0:00:01\r\u001b[K     |██████████████████████████████▋ | 1.6 MB 5.2 MB/s eta 0:00:01\r\u001b[K     |██████████████████████████████▊ | 1.6 MB 5.2 MB/s eta 0:00:01\r\u001b[K     |███████████████████████████████ | 1.6 MB 5.2 MB/s eta 0:00:01\r\u001b[K     |███████████████████████████████▏| 1.6 MB 5.2 MB/s eta 0:00:01\r\u001b[K     |███████████████████████████████▍| 1.6 MB 5.2 MB/s eta 0:00:01\r\u001b[K     |███████████████████████████████▌| 1.7 MB 5.2 MB/s eta 0:00:01\r\u001b[K     |███████████████████████████████▊| 1.7 MB 5.2 MB/s eta 0:00:01\r\u001b[K     |████████████████████████████████| 1.7 MB 5.2 MB/s eta 0:00:01\r\u001b[K     |████████████████████████████████| 1.7 MB 5.2 MB/s \n",
            "\u001b[K     |████████████████████████████████| 88 kB 9.0 MB/s \n",
            "\u001b[K     |████████████████████████████████| 139 kB 73.8 MB/s \n",
            "\u001b[K     |████████████████████████████████| 180 kB 72.7 MB/s \n",
            "\u001b[K     |████████████████████████████████| 97 kB 7.2 MB/s \n",
            "\u001b[K     |████████████████████████████████| 63 kB 1.7 MB/s \n",
            "\u001b[?25h  Building wheel for subprocess32 (setup.py) ... \u001b[?25l\u001b[?25hdone\n",
            "  Building wheel for pathtools (setup.py) ... \u001b[?25l\u001b[?25hdone\n"
          ]
        }
      ]
    },
    {
      "cell_type": "code",
      "metadata": {
        "id": "ggyW4YbIOpem"
      },
      "source": [
        "import sys\n",
        "\n",
        "sys.path.append(\"point-cloud-segmentation\")"
      ],
      "execution_count": 1,
      "outputs": []
    },
    {
      "cell_type": "code",
      "metadata": {
        "id": "wCy0w51v63Ux"
      },
      "source": [
        "from google.colab import auth\n",
        "auth.authenticate_user()"
      ],
      "execution_count": 2,
      "outputs": []
    },
    {
      "cell_type": "code",
      "metadata": {
        "id": "PIIimZrg6-Su"
      },
      "source": [
        "import os\n",
        "\n",
        "import wandb\n",
        "import wandb.keras\n",
        "from datetime import datetime\n",
        "\n",
        "from tensorflow.keras import optimizers, callbacks\n",
        "from tensorflow.keras import mixed_precision\n",
        "\n",
        "from point_seg import TFRecordLoader, ShapeNetCoreLoaderInMemory\n",
        "from point_seg import models, utils"
      ],
      "execution_count": 3,
      "outputs": []
    },
    {
      "cell_type": "code",
      "metadata": {
        "id": "r4fkHiX5RU-U"
      },
      "source": [
        "#@title Configs\n",
        "#@markdown Get your `wandb_api_key` from https://wandb.ai/authorize.\n",
        "wandb_api_key = \"8d7149fe07496df2aaab8e9856a6ed8564e2a644\" #@param {type:\"string\"}\n",
        "object_category = \"Airplane\" #@param {type:\"string\"}\n",
        "num_points = 1024 #@param {type:\"integer\"}\n",
        "batch_size = 32 #@param {type:\"integer\"}\n",
        "epochs = 100 #@param {type:\"integer\"}\n",
        "artifact_location = \"gs://pointnet-segmentation\" #@param {type:\"string\"}\n",
        "initial_lr = 1e-3 #@param {type:\"number\"}\n",
        "drop_every = 10 #@param {type:\"integer\"}\n",
        "decay_factor = 0.5 #@param {type:\"number\"}"
      ],
      "execution_count": 4,
      "outputs": []
    },
    {
      "cell_type": "code",
      "metadata": {
        "colab": {
          "base_uri": "https://localhost:8080/"
        },
        "id": "ebp9-JscPu0t",
        "outputId": "d026dfd3-6e48-422c-9439-2a1d205e2c85"
      },
      "source": [
        "timestamp = datetime.utcnow().strftime(\"%y%m%d-%H%M%S\")\n",
        "strategy = utils.initialize_device()\n",
        "batch_size = 32 * strategy.num_replicas_in_sync"
      ],
      "execution_count": 5,
      "outputs": [
        {
          "output_type": "stream",
          "name": "stdout",
          "text": [
            "INFO:tensorflow:Clearing out eager caches\n"
          ]
        },
        {
          "output_type": "stream",
          "name": "stderr",
          "text": [
            "INFO:tensorflow:Clearing out eager caches\n"
          ]
        },
        {
          "output_type": "stream",
          "name": "stdout",
          "text": [
            "INFO:tensorflow:Initializing the TPU system: grpc://10.28.24.130:8470\n"
          ]
        },
        {
          "output_type": "stream",
          "name": "stderr",
          "text": [
            "INFO:tensorflow:Initializing the TPU system: grpc://10.28.24.130:8470\n"
          ]
        },
        {
          "output_type": "stream",
          "name": "stdout",
          "text": [
            "INFO:tensorflow:Finished initializing TPU system.\n"
          ]
        },
        {
          "output_type": "stream",
          "name": "stderr",
          "text": [
            "INFO:tensorflow:Finished initializing TPU system.\n"
          ]
        },
        {
          "output_type": "stream",
          "name": "stdout",
          "text": [
            "INFO:tensorflow:Found TPU system:\n"
          ]
        },
        {
          "output_type": "stream",
          "name": "stderr",
          "text": [
            "INFO:tensorflow:Found TPU system:\n"
          ]
        },
        {
          "output_type": "stream",
          "name": "stdout",
          "text": [
            "INFO:tensorflow:*** Num TPU Cores: 8\n"
          ]
        },
        {
          "output_type": "stream",
          "name": "stderr",
          "text": [
            "INFO:tensorflow:*** Num TPU Cores: 8\n"
          ]
        },
        {
          "output_type": "stream",
          "name": "stdout",
          "text": [
            "INFO:tensorflow:*** Num TPU Workers: 1\n"
          ]
        },
        {
          "output_type": "stream",
          "name": "stderr",
          "text": [
            "INFO:tensorflow:*** Num TPU Workers: 1\n"
          ]
        },
        {
          "output_type": "stream",
          "name": "stdout",
          "text": [
            "INFO:tensorflow:*** Num TPU Cores Per Worker: 8\n"
          ]
        },
        {
          "output_type": "stream",
          "name": "stderr",
          "text": [
            "INFO:tensorflow:*** Num TPU Cores Per Worker: 8\n"
          ]
        },
        {
          "output_type": "stream",
          "name": "stdout",
          "text": [
            "INFO:tensorflow:*** Available Device: _DeviceAttributes(/job:localhost/replica:0/task:0/device:CPU:0, CPU, 0, 0)\n"
          ]
        },
        {
          "output_type": "stream",
          "name": "stderr",
          "text": [
            "INFO:tensorflow:*** Available Device: _DeviceAttributes(/job:localhost/replica:0/task:0/device:CPU:0, CPU, 0, 0)\n"
          ]
        },
        {
          "output_type": "stream",
          "name": "stdout",
          "text": [
            "INFO:tensorflow:*** Available Device: _DeviceAttributes(/job:worker/replica:0/task:0/device:CPU:0, CPU, 0, 0)\n"
          ]
        },
        {
          "output_type": "stream",
          "name": "stderr",
          "text": [
            "INFO:tensorflow:*** Available Device: _DeviceAttributes(/job:worker/replica:0/task:0/device:CPU:0, CPU, 0, 0)\n"
          ]
        },
        {
          "output_type": "stream",
          "name": "stdout",
          "text": [
            "INFO:tensorflow:*** Available Device: _DeviceAttributes(/job:worker/replica:0/task:0/device:TPU:0, TPU, 0, 0)\n"
          ]
        },
        {
          "output_type": "stream",
          "name": "stderr",
          "text": [
            "INFO:tensorflow:*** Available Device: _DeviceAttributes(/job:worker/replica:0/task:0/device:TPU:0, TPU, 0, 0)\n"
          ]
        },
        {
          "output_type": "stream",
          "name": "stdout",
          "text": [
            "INFO:tensorflow:*** Available Device: _DeviceAttributes(/job:worker/replica:0/task:0/device:TPU:1, TPU, 0, 0)\n"
          ]
        },
        {
          "output_type": "stream",
          "name": "stderr",
          "text": [
            "INFO:tensorflow:*** Available Device: _DeviceAttributes(/job:worker/replica:0/task:0/device:TPU:1, TPU, 0, 0)\n"
          ]
        },
        {
          "output_type": "stream",
          "name": "stdout",
          "text": [
            "INFO:tensorflow:*** Available Device: _DeviceAttributes(/job:worker/replica:0/task:0/device:TPU:2, TPU, 0, 0)\n"
          ]
        },
        {
          "output_type": "stream",
          "name": "stderr",
          "text": [
            "INFO:tensorflow:*** Available Device: _DeviceAttributes(/job:worker/replica:0/task:0/device:TPU:2, TPU, 0, 0)\n"
          ]
        },
        {
          "output_type": "stream",
          "name": "stdout",
          "text": [
            "INFO:tensorflow:*** Available Device: _DeviceAttributes(/job:worker/replica:0/task:0/device:TPU:3, TPU, 0, 0)\n"
          ]
        },
        {
          "output_type": "stream",
          "name": "stderr",
          "text": [
            "INFO:tensorflow:*** Available Device: _DeviceAttributes(/job:worker/replica:0/task:0/device:TPU:3, TPU, 0, 0)\n"
          ]
        },
        {
          "output_type": "stream",
          "name": "stdout",
          "text": [
            "INFO:tensorflow:*** Available Device: _DeviceAttributes(/job:worker/replica:0/task:0/device:TPU:4, TPU, 0, 0)\n"
          ]
        },
        {
          "output_type": "stream",
          "name": "stderr",
          "text": [
            "INFO:tensorflow:*** Available Device: _DeviceAttributes(/job:worker/replica:0/task:0/device:TPU:4, TPU, 0, 0)\n"
          ]
        },
        {
          "output_type": "stream",
          "name": "stdout",
          "text": [
            "INFO:tensorflow:*** Available Device: _DeviceAttributes(/job:worker/replica:0/task:0/device:TPU:5, TPU, 0, 0)\n"
          ]
        },
        {
          "output_type": "stream",
          "name": "stderr",
          "text": [
            "INFO:tensorflow:*** Available Device: _DeviceAttributes(/job:worker/replica:0/task:0/device:TPU:5, TPU, 0, 0)\n"
          ]
        },
        {
          "output_type": "stream",
          "name": "stdout",
          "text": [
            "INFO:tensorflow:*** Available Device: _DeviceAttributes(/job:worker/replica:0/task:0/device:TPU:6, TPU, 0, 0)\n"
          ]
        },
        {
          "output_type": "stream",
          "name": "stderr",
          "text": [
            "INFO:tensorflow:*** Available Device: _DeviceAttributes(/job:worker/replica:0/task:0/device:TPU:6, TPU, 0, 0)\n"
          ]
        },
        {
          "output_type": "stream",
          "name": "stdout",
          "text": [
            "INFO:tensorflow:*** Available Device: _DeviceAttributes(/job:worker/replica:0/task:0/device:TPU:7, TPU, 0, 0)\n"
          ]
        },
        {
          "output_type": "stream",
          "name": "stderr",
          "text": [
            "INFO:tensorflow:*** Available Device: _DeviceAttributes(/job:worker/replica:0/task:0/device:TPU:7, TPU, 0, 0)\n"
          ]
        },
        {
          "output_type": "stream",
          "name": "stdout",
          "text": [
            "INFO:tensorflow:*** Available Device: _DeviceAttributes(/job:worker/replica:0/task:0/device:TPU_SYSTEM:0, TPU_SYSTEM, 0, 0)\n"
          ]
        },
        {
          "output_type": "stream",
          "name": "stderr",
          "text": [
            "INFO:tensorflow:*** Available Device: _DeviceAttributes(/job:worker/replica:0/task:0/device:TPU_SYSTEM:0, TPU_SYSTEM, 0, 0)\n"
          ]
        },
        {
          "output_type": "stream",
          "name": "stdout",
          "text": [
            "INFO:tensorflow:*** Available Device: _DeviceAttributes(/job:worker/replica:0/task:0/device:XLA_CPU:0, XLA_CPU, 0, 0)\n"
          ]
        },
        {
          "output_type": "stream",
          "name": "stderr",
          "text": [
            "INFO:tensorflow:*** Available Device: _DeviceAttributes(/job:worker/replica:0/task:0/device:XLA_CPU:0, XLA_CPU, 0, 0)\n"
          ]
        }
      ]
    },
    {
      "cell_type": "code",
      "metadata": {
        "colab": {
          "base_uri": "https://localhost:8080/",
          "height": 73
        },
        "id": "2o494b3aQTi_",
        "outputId": "88cf51df-4280-4604-9387-46c169e1acf7"
      },
      "source": [
        "wandb.init(\n",
        "    project='pointnet_shapenet_core',\n",
        "    name=f\"{object_category}_{timestamp}\",\n",
        "    entity=\"pointnet\",\n",
        ")"
      ],
      "execution_count": 6,
      "outputs": [
        {
          "output_type": "stream",
          "name": "stderr",
          "text": [
            "\u001b[34m\u001b[1mwandb\u001b[0m: Currently logged in as: \u001b[33mpointnet\u001b[0m (use `wandb login --relogin` to force relogin)\n"
          ]
        },
        {
          "output_type": "display_data",
          "data": {
            "text/html": [
              "\n",
              "                    Syncing run <strong><a href=\"https://wandb.ai/pointnet/pointnet_shapenet_core/runs/1qng0jti\" target=\"_blank\">Airplane_211029-144027</a></strong> to <a href=\"https://wandb.ai/pointnet/pointnet_shapenet_core\" target=\"_blank\">Weights & Biases</a> (<a href=\"https://docs.wandb.com/integrations/jupyter.html\" target=\"_blank\">docs</a>).<br/>\n",
              "\n",
              "                "
            ],
            "text/plain": [
              "<IPython.core.display.HTML object>"
            ]
          },
          "metadata": {}
        },
        {
          "output_type": "execute_result",
          "data": {
            "text/plain": [
              "<wandb.sdk.wandb_run.Run at 0x7f3f6a30a690>"
            ],
            "text/html": [
              "<button onClick=\"this.nextSibling.style.display='block';this.style.display='none';\">Display W&B run</button><iframe src=\"https://wandb.ai/pointnet/pointnet_shapenet_core/runs/1qng0jti?jupyter=true\" style=\"border:none;width:100%;height:420px;display:none;\"></iframe>"
            ]
          },
          "metadata": {},
          "execution_count": 6
        }
      ]
    },
    {
      "cell_type": "code",
      "metadata": {
        "id": "tzXnM-4-SHkd"
      },
      "source": [
        "tfrecord_loader = TFRecordLoader(\n",
        "    tfrecord_dir=os.path.join(\n",
        "        artifact_location, \"tfrecords\"\n",
        "    ),\n",
        "    object_category=object_category,\n",
        ")\n",
        "train_dataset, val_dataset = tfrecord_loader.get_datasets(\n",
        "    batch_size=batch_size, drop_remainder=True\n",
        ")"
      ],
      "execution_count": 7,
      "outputs": []
    },
    {
      "cell_type": "code",
      "metadata": {
        "id": "gSIGOMEcSJb0"
      },
      "source": [
        "lr_scheduler = utils.StepDecay(initial_lr, drop_every, decay_factor)\n",
        "lr_callback = callbacks.LearningRateScheduler(\n",
        "    lambda epoch: lr_scheduler(epoch), verbose=True\n",
        ")\n",
        "\n",
        "# Tensorboard Callback\n",
        "logs_dir = os.path.join(\n",
        "    \"logs\", f\"{object_category}_{timestamp}\"\n",
        ")\n",
        "logs_dir = os.path.join(artifact_location, logs_dir)\n",
        "tb_callback = callbacks.TensorBoard(log_dir=logs_dir)\n",
        "\n",
        "# ModelCheckpoint Callback\n",
        "checkpoint_path = os.path.join(\n",
        "    artifact_location,\n",
        "    \"training_checkpoints\",\n",
        "    f\"{object_category}_{timestamp}\",\n",
        ")\n",
        "checkpoint_callback = callbacks.ModelCheckpoint(\n",
        "    filepath=checkpoint_path, save_best_only=True, save_weights_only=True,\n",
        ")\n",
        "\n",
        "callback_list = [\n",
        "    tb_callback,\n",
        "    checkpoint_callback,\n",
        "    lr_callback,\n",
        "    wandb.keras.WandbCallback()\n",
        "]"
      ],
      "execution_count": 8,
      "outputs": []
    },
    {
      "cell_type": "code",
      "metadata": {
        "id": "zfLgneWDThJz"
      },
      "source": [
        "with strategy.scope():\n",
        "    optimizer = optimizers.Adam(learning_rate=initial_lr)\n",
        "    _, y = next(iter(train_dataset))\n",
        "    num_classes = y.shape[-1]\n",
        "    model = models.get_shape_segmentation_model(num_points, num_classes)\n",
        "\n",
        "model.compile(\n",
        "    optimizer=optimizer, loss=\"categorical_crossentropy\", metrics=[\"accuracy\"]\n",
        ")\n"
      ],
      "execution_count": 9,
      "outputs": []
    },
    {
      "cell_type": "code",
      "metadata": {
        "colab": {
          "base_uri": "https://localhost:8080/"
        },
        "id": "V0Ebf6RKT2hh",
        "outputId": "10a3733e-bc47-471e-c4ec-608a70e61cc9"
      },
      "source": [
        "model.fit(\n",
        "    train_dataset,\n",
        "    validation_data=val_dataset,\n",
        "    epochs=epochs,\n",
        "    callbacks=callback_list,\n",
        ")"
      ],
      "execution_count": 10,
      "outputs": [
        {
          "output_type": "stream",
          "name": "stdout",
          "text": [
            "Epoch 1/100\n",
            "\n",
            "Epoch 00001: LearningRateScheduler setting learning rate to 0.001.\n",
            "      6/Unknown - 26s 681ms/step - loss: 14.7031 - accuracy: 0.3650WARNING:tensorflow:Callback method `on_train_batch_end` is slow compared to the batch time (batch time: 0.1049s vs `on_train_batch_end` time: 0.4812s). Check your callbacks.\n"
          ]
        },
        {
          "output_type": "stream",
          "name": "stderr",
          "text": [
            "WARNING:tensorflow:Callback method `on_train_batch_end` is slow compared to the batch time (batch time: 0.1049s vs `on_train_batch_end` time: 0.4812s). Check your callbacks.\n"
          ]
        },
        {
          "output_type": "stream",
          "name": "stdout",
          "text": [
            "11/11 [==============================] - 32s 924ms/step - loss: 11.4767 - accuracy: 0.4992 - val_loss: 8.8147 - val_accuracy: 0.6701\n",
            "Epoch 2/100\n",
            "\n",
            "Epoch 00002: LearningRateScheduler setting learning rate to 0.001.\n",
            "11/11 [==============================] - 2s 185ms/step - loss: 5.5254 - accuracy: 0.7511 - val_loss: 9.3384 - val_accuracy: 0.7563\n",
            "Epoch 3/100\n",
            "\n",
            "Epoch 00003: LearningRateScheduler setting learning rate to 0.001.\n",
            "11/11 [==============================] - 2s 176ms/step - loss: 4.8946 - accuracy: 0.7958 - val_loss: 6.8431 - val_accuracy: 0.7931\n",
            "Epoch 4/100\n",
            "\n",
            "Epoch 00004: LearningRateScheduler setting learning rate to 0.001.\n",
            "11/11 [==============================] - 2s 177ms/step - loss: 4.7147 - accuracy: 0.8159 - val_loss: 6.4405 - val_accuracy: 0.8045\n",
            "Epoch 5/100\n",
            "\n",
            "Epoch 00005: LearningRateScheduler setting learning rate to 0.001.\n",
            "11/11 [==============================] - 2s 211ms/step - loss: 4.6225 - accuracy: 0.8324 - val_loss: 6.1094 - val_accuracy: 0.8172\n",
            "Epoch 6/100\n",
            "\n",
            "Epoch 00006: LearningRateScheduler setting learning rate to 0.001.\n",
            "11/11 [==============================] - 2s 183ms/step - loss: 4.5682 - accuracy: 0.8465 - val_loss: 4.9453 - val_accuracy: 0.8258\n",
            "Epoch 7/100\n",
            "\n",
            "Epoch 00007: LearningRateScheduler setting learning rate to 0.001.\n",
            "11/11 [==============================] - 2s 181ms/step - loss: 4.5376 - accuracy: 0.8534 - val_loss: 4.8057 - val_accuracy: 0.8292\n",
            "Epoch 8/100\n",
            "\n",
            "Epoch 00008: LearningRateScheduler setting learning rate to 0.001.\n",
            "11/11 [==============================] - 2s 178ms/step - loss: 4.5252 - accuracy: 0.8557 - val_loss: 4.6973 - val_accuracy: 0.8347\n",
            "Epoch 9/100\n",
            "\n",
            "Epoch 00009: LearningRateScheduler setting learning rate to 0.001.\n",
            "11/11 [==============================] - 2s 181ms/step - loss: 4.5082 - accuracy: 0.8602 - val_loss: 4.7668 - val_accuracy: 0.8239\n",
            "Epoch 10/100\n",
            "\n",
            "Epoch 00010: LearningRateScheduler setting learning rate to 0.0005.\n",
            "11/11 [==============================] - 2s 179ms/step - loss: 4.4944 - accuracy: 0.8629 - val_loss: 4.8991 - val_accuracy: 0.8337\n",
            "Epoch 11/100\n",
            "\n",
            "Epoch 00011: LearningRateScheduler setting learning rate to 0.0005.\n",
            "11/11 [==============================] - 2s 187ms/step - loss: 4.4769 - accuracy: 0.8679 - val_loss: 4.8485 - val_accuracy: 0.8330\n",
            "Epoch 12/100\n",
            "\n",
            "Epoch 00012: LearningRateScheduler setting learning rate to 0.0005.\n",
            "11/11 [==============================] - 2s 178ms/step - loss: 4.4534 - accuracy: 0.8741 - val_loss: 4.7856 - val_accuracy: 0.8391\n",
            "Epoch 13/100\n",
            "\n",
            "Epoch 00013: LearningRateScheduler setting learning rate to 0.0005.\n",
            "11/11 [==============================] - 2s 219ms/step - loss: 4.4401 - accuracy: 0.8777 - val_loss: 4.7971 - val_accuracy: 0.8356\n",
            "Epoch 14/100\n",
            "\n",
            "Epoch 00014: LearningRateScheduler setting learning rate to 0.0005.\n",
            "11/11 [==============================] - 2s 175ms/step - loss: 4.4293 - accuracy: 0.8808 - val_loss: 4.8478 - val_accuracy: 0.8323\n",
            "Epoch 15/100\n",
            "\n",
            "Epoch 00015: LearningRateScheduler setting learning rate to 0.0005.\n",
            "11/11 [==============================] - 2s 182ms/step - loss: 4.4260 - accuracy: 0.8812 - val_loss: 4.7532 - val_accuracy: 0.8369\n",
            "Epoch 16/100\n",
            "\n",
            "Epoch 00016: LearningRateScheduler setting learning rate to 0.0005.\n",
            "11/11 [==============================] - 2s 178ms/step - loss: 4.4277 - accuracy: 0.8799 - val_loss: 4.8830 - val_accuracy: 0.8354\n",
            "Epoch 17/100\n",
            "\n",
            "Epoch 00017: LearningRateScheduler setting learning rate to 0.0005.\n",
            "11/11 [==============================] - 2s 185ms/step - loss: 4.4223 - accuracy: 0.8803 - val_loss: 4.8713 - val_accuracy: 0.8365\n",
            "Epoch 18/100\n",
            "\n",
            "Epoch 00018: LearningRateScheduler setting learning rate to 0.0005.\n",
            "11/11 [==============================] - 2s 176ms/step - loss: 4.4152 - accuracy: 0.8828 - val_loss: 4.9089 - val_accuracy: 0.8358\n",
            "Epoch 19/100\n",
            "\n",
            "Epoch 00019: LearningRateScheduler setting learning rate to 0.0005.\n",
            "11/11 [==============================] - 2s 189ms/step - loss: 4.4060 - accuracy: 0.8854 - val_loss: 4.8130 - val_accuracy: 0.8401\n",
            "Epoch 20/100\n",
            "\n",
            "Epoch 00020: LearningRateScheduler setting learning rate to 0.00025.\n",
            "11/11 [==============================] - 2s 179ms/step - loss: 4.3949 - accuracy: 0.8881 - val_loss: 4.7802 - val_accuracy: 0.8383\n",
            "Epoch 21/100\n",
            "\n",
            "Epoch 00021: LearningRateScheduler setting learning rate to 0.00025.\n",
            "11/11 [==============================] - 2s 181ms/step - loss: 4.3874 - accuracy: 0.8897 - val_loss: 4.8017 - val_accuracy: 0.8368\n",
            "Epoch 22/100\n",
            "\n",
            "Epoch 00022: LearningRateScheduler setting learning rate to 0.00025.\n",
            "11/11 [==============================] - 2s 178ms/step - loss: 4.3827 - accuracy: 0.8909 - val_loss: 4.9452 - val_accuracy: 0.8324\n",
            "Epoch 23/100\n",
            "\n",
            "Epoch 00023: LearningRateScheduler setting learning rate to 0.00025.\n",
            "11/11 [==============================] - 2s 178ms/step - loss: 4.3762 - accuracy: 0.8927 - val_loss: 4.8539 - val_accuracy: 0.8367\n",
            "Epoch 24/100\n",
            "\n",
            "Epoch 00024: LearningRateScheduler setting learning rate to 0.00025.\n",
            "11/11 [==============================] - 2s 179ms/step - loss: 4.3703 - accuracy: 0.8942 - val_loss: 5.0080 - val_accuracy: 0.8347\n",
            "Epoch 25/100\n",
            "\n",
            "Epoch 00025: LearningRateScheduler setting learning rate to 0.00025.\n",
            "11/11 [==============================] - 2s 179ms/step - loss: 4.3670 - accuracy: 0.8948 - val_loss: 4.7800 - val_accuracy: 0.8356\n",
            "Epoch 26/100\n",
            "\n",
            "Epoch 00026: LearningRateScheduler setting learning rate to 0.00025.\n",
            "11/11 [==============================] - 2s 177ms/step - loss: 4.3634 - accuracy: 0.8950 - val_loss: 4.7224 - val_accuracy: 0.8362\n",
            "Epoch 27/100\n",
            "\n",
            "Epoch 00027: LearningRateScheduler setting learning rate to 0.00025.\n",
            "11/11 [==============================] - 2s 179ms/step - loss: 4.3594 - accuracy: 0.8964 - val_loss: 4.7559 - val_accuracy: 0.8403\n",
            "Epoch 28/100\n",
            "\n",
            "Epoch 00028: LearningRateScheduler setting learning rate to 0.00025.\n",
            "11/11 [==============================] - 2s 179ms/step - loss: 4.3545 - accuracy: 0.8971 - val_loss: 4.8394 - val_accuracy: 0.8372\n",
            "Epoch 29/100\n",
            "\n",
            "Epoch 00029: LearningRateScheduler setting learning rate to 0.00025.\n",
            "11/11 [==============================] - 2s 178ms/step - loss: 4.3521 - accuracy: 0.8982 - val_loss: 4.9575 - val_accuracy: 0.8394\n",
            "Epoch 30/100\n",
            "\n",
            "Epoch 00030: LearningRateScheduler setting learning rate to 0.000125.\n",
            "11/11 [==============================] - 2s 177ms/step - loss: 4.3459 - accuracy: 0.8994 - val_loss: 4.9156 - val_accuracy: 0.8381\n",
            "Epoch 31/100\n",
            "\n",
            "Epoch 00031: LearningRateScheduler setting learning rate to 0.000125.\n",
            "11/11 [==============================] - 2s 181ms/step - loss: 4.3386 - accuracy: 0.9016 - val_loss: 4.7623 - val_accuracy: 0.8431\n",
            "Epoch 32/100\n",
            "\n",
            "Epoch 00032: LearningRateScheduler setting learning rate to 0.000125.\n",
            "11/11 [==============================] - 2s 176ms/step - loss: 4.3311 - accuracy: 0.9036 - val_loss: 4.8267 - val_accuracy: 0.8364\n",
            "Epoch 33/100\n",
            "\n",
            "Epoch 00033: LearningRateScheduler setting learning rate to 0.000125.\n",
            "11/11 [==============================] - 2s 180ms/step - loss: 4.3262 - accuracy: 0.9047 - val_loss: 4.8605 - val_accuracy: 0.8383\n",
            "Epoch 34/100\n",
            "\n",
            "Epoch 00034: LearningRateScheduler setting learning rate to 0.000125.\n",
            "11/11 [==============================] - 2s 175ms/step - loss: 4.3210 - accuracy: 0.9061 - val_loss: 4.8628 - val_accuracy: 0.8398\n",
            "Epoch 35/100\n",
            "\n",
            "Epoch 00035: LearningRateScheduler setting learning rate to 0.000125.\n",
            "11/11 [==============================] - 2s 181ms/step - loss: 4.3195 - accuracy: 0.9061 - val_loss: 4.8354 - val_accuracy: 0.8396\n",
            "Epoch 36/100\n",
            "\n",
            "Epoch 00036: LearningRateScheduler setting learning rate to 0.000125.\n",
            "11/11 [==============================] - 2s 182ms/step - loss: 4.3168 - accuracy: 0.9067 - val_loss: 4.8662 - val_accuracy: 0.8385\n",
            "Epoch 37/100\n",
            "\n",
            "Epoch 00037: LearningRateScheduler setting learning rate to 0.000125.\n",
            "11/11 [==============================] - 2s 216ms/step - loss: 4.3154 - accuracy: 0.9064 - val_loss: 4.8662 - val_accuracy: 0.8368\n",
            "Epoch 38/100\n",
            "\n",
            "Epoch 00038: LearningRateScheduler setting learning rate to 0.000125.\n",
            "11/11 [==============================] - 2s 178ms/step - loss: 4.3151 - accuracy: 0.9057 - val_loss: 4.8732 - val_accuracy: 0.8420\n",
            "Epoch 39/100\n",
            "\n",
            "Epoch 00039: LearningRateScheduler setting learning rate to 0.000125.\n",
            "11/11 [==============================] - 2s 179ms/step - loss: 4.3121 - accuracy: 0.9064 - val_loss: 4.8067 - val_accuracy: 0.8408\n",
            "Epoch 40/100\n",
            "\n",
            "Epoch 00040: LearningRateScheduler setting learning rate to 6.25e-05.\n",
            "11/11 [==============================] - 2s 173ms/step - loss: 4.3064 - accuracy: 0.9083 - val_loss: 4.8742 - val_accuracy: 0.8406\n",
            "Epoch 41/100\n",
            "\n",
            "Epoch 00041: LearningRateScheduler setting learning rate to 6.25e-05.\n",
            "11/11 [==============================] - 2s 179ms/step - loss: 4.3002 - accuracy: 0.9106 - val_loss: 4.8596 - val_accuracy: 0.8432\n",
            "Epoch 42/100\n",
            "\n",
            "Epoch 00042: LearningRateScheduler setting learning rate to 6.25e-05.\n",
            "11/11 [==============================] - 2s 176ms/step - loss: 4.2957 - accuracy: 0.9121 - val_loss: 4.8733 - val_accuracy: 0.8411\n",
            "Epoch 43/100\n",
            "\n",
            "Epoch 00043: LearningRateScheduler setting learning rate to 6.25e-05.\n",
            "11/11 [==============================] - 2s 181ms/step - loss: 4.2930 - accuracy: 0.9125 - val_loss: 4.9019 - val_accuracy: 0.8396\n",
            "Epoch 44/100\n",
            "\n",
            "Epoch 00044: LearningRateScheduler setting learning rate to 6.25e-05.\n",
            "11/11 [==============================] - 2s 176ms/step - loss: 4.2905 - accuracy: 0.9132 - val_loss: 4.8814 - val_accuracy: 0.8404\n",
            "Epoch 45/100\n",
            "\n",
            "Epoch 00045: LearningRateScheduler setting learning rate to 6.25e-05.\n",
            "11/11 [==============================] - 2s 179ms/step - loss: 4.2883 - accuracy: 0.9138 - val_loss: 4.8872 - val_accuracy: 0.8404\n",
            "Epoch 46/100\n",
            "\n",
            "Epoch 00046: LearningRateScheduler setting learning rate to 6.25e-05.\n",
            "11/11 [==============================] - 2s 177ms/step - loss: 4.2864 - accuracy: 0.9140 - val_loss: 4.8500 - val_accuracy: 0.8409\n",
            "Epoch 47/100\n",
            "\n",
            "Epoch 00047: LearningRateScheduler setting learning rate to 6.25e-05.\n",
            "11/11 [==============================] - 2s 176ms/step - loss: 4.2841 - accuracy: 0.9142 - val_loss: 4.8546 - val_accuracy: 0.8400\n",
            "Epoch 48/100\n",
            "\n",
            "Epoch 00048: LearningRateScheduler setting learning rate to 6.25e-05.\n",
            "11/11 [==============================] - 2s 177ms/step - loss: 4.2824 - accuracy: 0.9145 - val_loss: 4.9337 - val_accuracy: 0.8385\n",
            "Epoch 49/100\n",
            "\n",
            "Epoch 00049: LearningRateScheduler setting learning rate to 6.25e-05.\n",
            "11/11 [==============================] - 2s 177ms/step - loss: 4.2797 - accuracy: 0.9152 - val_loss: 4.8795 - val_accuracy: 0.8398\n",
            "Epoch 50/100\n",
            "\n",
            "Epoch 00050: LearningRateScheduler setting learning rate to 3.125e-05.\n",
            "11/11 [==============================] - 2s 176ms/step - loss: 4.2784 - accuracy: 0.9153 - val_loss: 4.9275 - val_accuracy: 0.8383\n",
            "Epoch 51/100\n",
            "\n",
            "Epoch 00051: LearningRateScheduler setting learning rate to 3.125e-05.\n",
            "11/11 [==============================] - 2s 177ms/step - loss: 4.2777 - accuracy: 0.9152 - val_loss: 4.8982 - val_accuracy: 0.8385\n",
            "Epoch 52/100\n",
            "\n",
            "Epoch 00052: LearningRateScheduler setting learning rate to 3.125e-05.\n",
            "11/11 [==============================] - 2s 185ms/step - loss: 4.2763 - accuracy: 0.9153 - val_loss: 4.9318 - val_accuracy: 0.8374\n",
            "Epoch 53/100\n",
            "\n",
            "Epoch 00053: LearningRateScheduler setting learning rate to 3.125e-05.\n",
            "11/11 [==============================] - 2s 176ms/step - loss: 4.2748 - accuracy: 0.9158 - val_loss: 4.9027 - val_accuracy: 0.8370\n",
            "Epoch 54/100\n",
            "\n",
            "Epoch 00054: LearningRateScheduler setting learning rate to 3.125e-05.\n",
            "11/11 [==============================] - 2s 179ms/step - loss: 4.2743 - accuracy: 0.9157 - val_loss: 4.9334 - val_accuracy: 0.8367\n",
            "Epoch 55/100\n",
            "\n",
            "Epoch 00055: LearningRateScheduler setting learning rate to 3.125e-05.\n",
            "11/11 [==============================] - 2s 182ms/step - loss: 4.2731 - accuracy: 0.9159 - val_loss: 4.9352 - val_accuracy: 0.8369\n",
            "Epoch 56/100\n",
            "\n",
            "Epoch 00056: LearningRateScheduler setting learning rate to 3.125e-05.\n",
            "11/11 [==============================] - 2s 178ms/step - loss: 4.2720 - accuracy: 0.9160 - val_loss: 4.9142 - val_accuracy: 0.8366\n",
            "Epoch 57/100\n",
            "\n",
            "Epoch 00057: LearningRateScheduler setting learning rate to 3.125e-05.\n",
            "11/11 [==============================] - 2s 185ms/step - loss: 4.2708 - accuracy: 0.9161 - val_loss: 4.9130 - val_accuracy: 0.8378\n",
            "Epoch 58/100\n",
            "\n",
            "Epoch 00058: LearningRateScheduler setting learning rate to 3.125e-05.\n",
            "11/11 [==============================] - 2s 176ms/step - loss: 4.2700 - accuracy: 0.9161 - val_loss: 4.9597 - val_accuracy: 0.8360\n",
            "Epoch 59/100\n",
            "\n",
            "Epoch 00059: LearningRateScheduler setting learning rate to 3.125e-05.\n",
            "11/11 [==============================] - 2s 180ms/step - loss: 4.2688 - accuracy: 0.9163 - val_loss: 4.9853 - val_accuracy: 0.8353\n",
            "Epoch 60/100\n",
            "\n",
            "Epoch 00060: LearningRateScheduler setting learning rate to 1.5625e-05.\n",
            "11/11 [==============================] - 2s 175ms/step - loss: 4.2688 - accuracy: 0.9160 - val_loss: 4.9088 - val_accuracy: 0.8390\n",
            "Epoch 61/100\n",
            "\n",
            "Epoch 00061: LearningRateScheduler setting learning rate to 1.5625e-05.\n",
            "11/11 [==============================] - 2s 217ms/step - loss: 4.2699 - accuracy: 0.9155 - val_loss: 4.8976 - val_accuracy: 0.8396\n",
            "Epoch 62/100\n",
            "\n",
            "Epoch 00062: LearningRateScheduler setting learning rate to 1.5625e-05.\n",
            "11/11 [==============================] - 2s 177ms/step - loss: 4.2685 - accuracy: 0.9159 - val_loss: 4.9066 - val_accuracy: 0.8389\n",
            "Epoch 63/100\n",
            "\n",
            "Epoch 00063: LearningRateScheduler setting learning rate to 1.5625e-05.\n",
            "11/11 [==============================] - 2s 180ms/step - loss: 4.2667 - accuracy: 0.9165 - val_loss: 4.9326 - val_accuracy: 0.8383\n",
            "Epoch 64/100\n",
            "\n",
            "Epoch 00064: LearningRateScheduler setting learning rate to 1.5625e-05.\n",
            "11/11 [==============================] - 2s 175ms/step - loss: 4.2655 - accuracy: 0.9169 - val_loss: 4.9209 - val_accuracy: 0.8390\n",
            "Epoch 65/100\n",
            "\n",
            "Epoch 00065: LearningRateScheduler setting learning rate to 1.5625e-05.\n",
            "11/11 [==============================] - 2s 179ms/step - loss: 4.2642 - accuracy: 0.9172 - val_loss: 4.9253 - val_accuracy: 0.8387\n",
            "Epoch 66/100\n",
            "\n",
            "Epoch 00066: LearningRateScheduler setting learning rate to 1.5625e-05.\n",
            "11/11 [==============================] - 2s 179ms/step - loss: 4.2638 - accuracy: 0.9174 - val_loss: 4.9036 - val_accuracy: 0.8392\n",
            "Epoch 67/100\n",
            "\n",
            "Epoch 00067: LearningRateScheduler setting learning rate to 1.5625e-05.\n",
            "11/11 [==============================] - 2s 177ms/step - loss: 4.2633 - accuracy: 0.9174 - val_loss: 4.9246 - val_accuracy: 0.8388\n",
            "Epoch 68/100\n",
            "\n",
            "Epoch 00068: LearningRateScheduler setting learning rate to 1.5625e-05.\n",
            "11/11 [==============================] - 2s 174ms/step - loss: 4.2625 - accuracy: 0.9178 - val_loss: 4.9722 - val_accuracy: 0.8362\n",
            "Epoch 69/100\n",
            "\n",
            "Epoch 00069: LearningRateScheduler setting learning rate to 1.5625e-05.\n",
            "11/11 [==============================] - 2s 214ms/step - loss: 4.2618 - accuracy: 0.9177 - val_loss: 4.9342 - val_accuracy: 0.8377\n",
            "Epoch 70/100\n",
            "\n",
            "Epoch 00070: LearningRateScheduler setting learning rate to 7.8125e-06.\n",
            "11/11 [==============================] - 2s 175ms/step - loss: 4.2601 - accuracy: 0.9181 - val_loss: 4.9351 - val_accuracy: 0.8386\n",
            "Epoch 71/100\n",
            "\n",
            "Epoch 00071: LearningRateScheduler setting learning rate to 7.8125e-06.\n",
            "11/11 [==============================] - 2s 181ms/step - loss: 4.2599 - accuracy: 0.9181 - val_loss: 4.9453 - val_accuracy: 0.8374\n",
            "Epoch 72/100\n",
            "\n",
            "Epoch 00072: LearningRateScheduler setting learning rate to 7.8125e-06.\n",
            "11/11 [==============================] - 2s 187ms/step - loss: 4.2598 - accuracy: 0.9180 - val_loss: 4.9683 - val_accuracy: 0.8371\n",
            "Epoch 73/100\n",
            "\n",
            "Epoch 00073: LearningRateScheduler setting learning rate to 7.8125e-06.\n",
            "11/11 [==============================] - 2s 181ms/step - loss: 4.2595 - accuracy: 0.9180 - val_loss: 4.9429 - val_accuracy: 0.8381\n",
            "Epoch 74/100\n",
            "\n",
            "Epoch 00074: LearningRateScheduler setting learning rate to 7.8125e-06.\n",
            "11/11 [==============================] - 2s 178ms/step - loss: 4.2588 - accuracy: 0.9183 - val_loss: 4.9736 - val_accuracy: 0.8374\n",
            "Epoch 75/100\n",
            "\n",
            "Epoch 00075: LearningRateScheduler setting learning rate to 7.8125e-06.\n",
            "11/11 [==============================] - 2s 180ms/step - loss: 4.2586 - accuracy: 0.9182 - val_loss: 4.9269 - val_accuracy: 0.8378\n",
            "Epoch 76/100\n",
            "\n",
            "Epoch 00076: LearningRateScheduler setting learning rate to 7.8125e-06.\n",
            "11/11 [==============================] - 2s 176ms/step - loss: 4.2584 - accuracy: 0.9183 - val_loss: 4.9641 - val_accuracy: 0.8371\n",
            "Epoch 77/100\n",
            "\n",
            "Epoch 00077: LearningRateScheduler setting learning rate to 7.8125e-06.\n",
            "11/11 [==============================] - 2s 182ms/step - loss: 4.2576 - accuracy: 0.9181 - val_loss: 4.9581 - val_accuracy: 0.8380\n",
            "Epoch 78/100\n",
            "\n",
            "Epoch 00078: LearningRateScheduler setting learning rate to 7.8125e-06.\n",
            "11/11 [==============================] - 2s 174ms/step - loss: 4.2573 - accuracy: 0.9184 - val_loss: 4.9846 - val_accuracy: 0.8372\n",
            "Epoch 79/100\n",
            "\n",
            "Epoch 00079: LearningRateScheduler setting learning rate to 7.8125e-06.\n",
            "11/11 [==============================] - 2s 186ms/step - loss: 4.2576 - accuracy: 0.9183 - val_loss: 4.9391 - val_accuracy: 0.8376\n",
            "Epoch 80/100\n",
            "\n",
            "Epoch 00080: LearningRateScheduler setting learning rate to 3.90625e-06.\n",
            "11/11 [==============================] - 2s 178ms/step - loss: 4.2566 - accuracy: 0.9186 - val_loss: 4.9507 - val_accuracy: 0.8381\n",
            "Epoch 81/100\n",
            "\n",
            "Epoch 00081: LearningRateScheduler setting learning rate to 3.90625e-06.\n",
            "11/11 [==============================] - 2s 181ms/step - loss: 4.2569 - accuracy: 0.9185 - val_loss: 4.9443 - val_accuracy: 0.8371\n",
            "Epoch 82/100\n",
            "\n",
            "Epoch 00082: LearningRateScheduler setting learning rate to 3.90625e-06.\n",
            "11/11 [==============================] - 2s 181ms/step - loss: 4.2565 - accuracy: 0.9185 - val_loss: 4.9427 - val_accuracy: 0.8374\n",
            "Epoch 83/100\n",
            "\n",
            "Epoch 00083: LearningRateScheduler setting learning rate to 3.90625e-06.\n",
            "11/11 [==============================] - 2s 186ms/step - loss: 4.2558 - accuracy: 0.9186 - val_loss: 4.9539 - val_accuracy: 0.8377\n",
            "Epoch 84/100\n",
            "\n",
            "Epoch 00084: LearningRateScheduler setting learning rate to 3.90625e-06.\n",
            "11/11 [==============================] - 2s 180ms/step - loss: 4.2561 - accuracy: 0.9186 - val_loss: 4.9502 - val_accuracy: 0.8371\n",
            "Epoch 85/100\n",
            "\n",
            "Epoch 00085: LearningRateScheduler setting learning rate to 3.90625e-06.\n",
            "11/11 [==============================] - 2s 221ms/step - loss: 4.2555 - accuracy: 0.9185 - val_loss: 4.9800 - val_accuracy: 0.8369\n",
            "Epoch 86/100\n",
            "\n",
            "Epoch 00086: LearningRateScheduler setting learning rate to 3.90625e-06.\n",
            "11/11 [==============================] - 2s 174ms/step - loss: 4.2553 - accuracy: 0.9188 - val_loss: 4.9212 - val_accuracy: 0.8387\n",
            "Epoch 87/100\n",
            "\n",
            "Epoch 00087: LearningRateScheduler setting learning rate to 3.90625e-06.\n",
            "11/11 [==============================] - 2s 181ms/step - loss: 4.2550 - accuracy: 0.9186 - val_loss: 4.9346 - val_accuracy: 0.8381\n",
            "Epoch 88/100\n",
            "\n",
            "Epoch 00088: LearningRateScheduler setting learning rate to 3.90625e-06.\n",
            "11/11 [==============================] - 2s 176ms/step - loss: 4.2554 - accuracy: 0.9187 - val_loss: 4.9334 - val_accuracy: 0.8387\n",
            "Epoch 89/100\n",
            "\n",
            "Epoch 00089: LearningRateScheduler setting learning rate to 3.90625e-06.\n",
            "11/11 [==============================] - 2s 181ms/step - loss: 4.2547 - accuracy: 0.9188 - val_loss: 4.9723 - val_accuracy: 0.8371\n",
            "Epoch 90/100\n",
            "\n",
            "Epoch 00090: LearningRateScheduler setting learning rate to 1.953125e-06.\n",
            "11/11 [==============================] - 2s 177ms/step - loss: 4.2548 - accuracy: 0.9187 - val_loss: 4.9520 - val_accuracy: 0.8381\n",
            "Epoch 91/100\n",
            "\n",
            "Epoch 00091: LearningRateScheduler setting learning rate to 1.953125e-06.\n",
            "11/11 [==============================] - 2s 178ms/step - loss: 4.2544 - accuracy: 0.9188 - val_loss: 4.9381 - val_accuracy: 0.8379\n",
            "Epoch 92/100\n",
            "\n",
            "Epoch 00092: LearningRateScheduler setting learning rate to 1.953125e-06.\n",
            "11/11 [==============================] - 2s 178ms/step - loss: 4.2546 - accuracy: 0.9187 - val_loss: 4.9648 - val_accuracy: 0.8374\n",
            "Epoch 93/100\n",
            "\n",
            "Epoch 00093: LearningRateScheduler setting learning rate to 1.953125e-06.\n",
            "11/11 [==============================] - 2s 219ms/step - loss: 4.2545 - accuracy: 0.9188 - val_loss: 4.9738 - val_accuracy: 0.8371\n",
            "Epoch 94/100\n",
            "\n",
            "Epoch 00094: LearningRateScheduler setting learning rate to 1.953125e-06.\n",
            "11/11 [==============================] - 2s 179ms/step - loss: 4.2543 - accuracy: 0.9187 - val_loss: 4.9231 - val_accuracy: 0.8377\n",
            "Epoch 95/100\n",
            "\n",
            "Epoch 00095: LearningRateScheduler setting learning rate to 1.953125e-06.\n",
            "11/11 [==============================] - 2s 179ms/step - loss: 4.2539 - accuracy: 0.9189 - val_loss: 4.9511 - val_accuracy: 0.8371\n",
            "Epoch 96/100\n",
            "\n",
            "Epoch 00096: LearningRateScheduler setting learning rate to 1.953125e-06.\n",
            "11/11 [==============================] - 2s 179ms/step - loss: 4.2541 - accuracy: 0.9187 - val_loss: 4.9538 - val_accuracy: 0.8372\n",
            "Epoch 97/100\n",
            "\n",
            "Epoch 00097: LearningRateScheduler setting learning rate to 1.953125e-06.\n",
            "11/11 [==============================] - 2s 183ms/step - loss: 4.2536 - accuracy: 0.9188 - val_loss: 4.9582 - val_accuracy: 0.8369\n",
            "Epoch 98/100\n",
            "\n",
            "Epoch 00098: LearningRateScheduler setting learning rate to 1.953125e-06.\n",
            "11/11 [==============================] - 2s 178ms/step - loss: 4.2539 - accuracy: 0.9188 - val_loss: 4.9985 - val_accuracy: 0.8372\n",
            "Epoch 99/100\n",
            "\n",
            "Epoch 00099: LearningRateScheduler setting learning rate to 1.953125e-06.\n",
            "11/11 [==============================] - 2s 178ms/step - loss: 4.2539 - accuracy: 0.9189 - val_loss: 4.9502 - val_accuracy: 0.8372\n",
            "Epoch 100/100\n",
            "\n",
            "Epoch 00100: LearningRateScheduler setting learning rate to 9.765625e-07.\n",
            "11/11 [==============================] - 2s 177ms/step - loss: 4.2535 - accuracy: 0.9189 - val_loss: 4.9737 - val_accuracy: 0.8370\n"
          ]
        },
        {
          "output_type": "execute_result",
          "data": {
            "text/plain": [
              "<tensorflow.python.keras.callbacks.History at 0x7f41a637bf90>"
            ]
          },
          "metadata": {},
          "execution_count": 10
        }
      ]
    },
    {
      "cell_type": "code",
      "metadata": {
        "colab": {
          "base_uri": "https://localhost:8080/"
        },
        "id": "9nHPyWddUwYB",
        "outputId": "a1a6dfd5-3287-4310-b4a1-c10c7c80f5fc"
      },
      "source": [
        "serialization_path = os.path.join(\n",
        "    artifact_location, \"final_models\",\n",
        "    f\"{object_category}_{timestamp}\",\n",
        ")\n",
        "model.load_weights(checkpoint_path)\n",
        "model.save(serialization_path)"
      ],
      "execution_count": 11,
      "outputs": [
        {
          "output_type": "stream",
          "name": "stdout",
          "text": [
            "INFO:tensorflow:Assets written to: gs://pointnet-segmentation/final_models/Airplane_211029-144027/assets\n"
          ]
        },
        {
          "output_type": "stream",
          "name": "stderr",
          "text": [
            "INFO:tensorflow:Assets written to: gs://pointnet-segmentation/final_models/Airplane_211029-144027/assets\n"
          ]
        }
      ]
    },
    {
      "cell_type": "code",
      "metadata": {
        "id": "64JKVbSRWrEo"
      },
      "source": [
        ""
      ],
      "execution_count": null,
      "outputs": []
    }
  ]
}