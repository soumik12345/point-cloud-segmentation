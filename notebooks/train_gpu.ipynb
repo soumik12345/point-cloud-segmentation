{
 "cells": [
  {
   "cell_type": "markdown",
   "metadata": {
    "colab_type": "text",
    "id": "view-in-github"
   },
   "source": [
    "<a href=\"https://colab.research.google.com/github/soumik12345/point-cloud-segmentation/blob/inference/notebooks/train_gpu.ipynb\" target=\"_parent\"><img src=\"https://colab.research.google.com/assets/colab-badge.svg\" alt=\"Open In Colab\"/></a>"
   ]
  },
  {
   "cell_type": "code",
   "execution_count": null,
   "metadata": {
    "colab": {
     "base_uri": "https://localhost:8080/"
    },
    "id": "tUyfFIyFnnSU",
    "outputId": "f0340674-2a44-4aaf-bef5-f4fc3b33afbb"
   },
   "outputs": [],
   "source": [
    "!git clone https://github.com/soumik12345/point-cloud-segmentation\n",
    "!pip install -qqq wandb ml_collections"
   ]
  },
  {
   "cell_type": "code",
   "execution_count": null,
   "metadata": {
    "id": "ORynKakaoCai"
   },
   "outputs": [],
   "source": [
    "import sys\n",
    "\n",
    "sys.path.append(\"point-cloud-segmentation\")"
   ]
  },
  {
   "cell_type": "code",
   "execution_count": null,
   "metadata": {
    "id": "dKP1ealyoFTR"
   },
   "outputs": [],
   "source": [
    "from google.colab import auth\n",
    "auth.authenticate_user()"
   ]
  },
  {
   "cell_type": "code",
   "execution_count": null,
   "metadata": {
    "id": "7D_Xj7TcoJQx"
   },
   "outputs": [],
   "source": [
    "import os\n",
    "\n",
    "import wandb\n",
    "import wandb.keras\n",
    "from datetime import datetime\n",
    "\n",
    "from tensorflow.keras import optimizers, callbacks\n",
    "from tensorflow.keras import mixed_precision\n",
    "\n",
    "from point_seg import TFRecordLoader, ShapeNetCoreLoaderInMemory\n",
    "from point_seg import models, utils"
   ]
  },
  {
   "cell_type": "code",
   "execution_count": null,
   "metadata": {
    "id": "bJrMXulMoPMZ"
   },
   "outputs": [],
   "source": [
    "#@title Configs\n",
    "#@markdown Get your `wandb_api_key` from https://wandb.ai/authorize.\n",
    "wandb_api_key = \"\" #@param {type:\"string\"}\n",
    "object_category = \"Bag\" #@param {type:\"string\"}\n",
    "num_points = 1024 #@param {type:\"integer\"}\n",
    "batch_size = 32 #@param {type:\"integer\"}\n",
    "val_split = 0.2 #@param {type:\"number\"}\n",
    "epochs = 60 #@param {type:\"integer\"}\n",
    "initial_lr = 1e-3 #@param {type:\"number\"}\n",
    "drop_every = 10 #@param {type:\"integer\"}\n",
    "decay_factor = 0.5 #@param {type:\"number\"}"
   ]
  },
  {
   "cell_type": "code",
   "execution_count": null,
   "metadata": {
    "id": "VmAl_DajocRK"
   },
   "outputs": [],
   "source": [
    "timestamp = datetime.utcnow().strftime(\"%y%m%d-%H%M%S\")\n",
    "strategy = utils.initialize_device()\n",
    "batch_size = 32 * strategy.num_replicas_in_sync"
   ]
  },
  {
   "cell_type": "code",
   "execution_count": null,
   "metadata": {
    "colab": {
     "base_uri": "https://localhost:8080/",
     "height": 73
    },
    "id": "GWCLRRPiohwh",
    "outputId": "fef642fb-a295-486f-e23a-17b2ca44fbe0"
   },
   "outputs": [],
   "source": [
    "wandb.init(\n",
    "    project='pointnet_shapenet_core',\n",
    "    name=f\"{object_category}_{timestamp}\",\n",
    "    entity=\"pointnet\",\n",
    ")"
   ]
  },
  {
   "cell_type": "code",
   "execution_count": null,
   "metadata": {
    "colab": {
     "base_uri": "https://localhost:8080/"
    },
    "id": "ZXs5a1gZooFZ",
    "outputId": "b360a90d-4fc1-48d1-d71c-7f8f3d15c6ab"
   },
   "outputs": [],
   "source": [
    "# Apply mixed-precision policy [OPTIONAL]\n",
    "mixed_precision.set_global_policy(\"mixed_float16\")\n",
    "policy = mixed_precision.global_policy()"
   ]
  },
  {
   "cell_type": "code",
   "execution_count": null,
   "metadata": {
    "colab": {
     "base_uri": "https://localhost:8080/"
    },
    "id": "B0ENDo5jovzS",
    "outputId": "d10d8802-b6ed-4a4a-a87d-006d7d78e85c"
   },
   "outputs": [],
   "source": [
    "data_loader = ShapeNetCoreLoaderInMemory(\n",
    "    object_category=object_category,\n",
    "    n_sampled_points=num_points,\n",
    ")\n",
    "data_loader.load_data()\n",
    "train_dataset, val_dataset = data_loader.get_datasets(\n",
    "    val_split=val_split,\n",
    "    batch_size=batch_size,\n",
    ")"
   ]
  },
  {
   "cell_type": "code",
   "execution_count": null,
   "metadata": {
    "id": "yCRAcznEo0Ph"
   },
   "outputs": [],
   "source": [
    "lr_scheduler = utils.StepDecay(initial_lr, drop_every, decay_factor)\n",
    "lr_callback = callbacks.LearningRateScheduler(\n",
    "    lambda epoch: lr_scheduler(epoch), verbose=True\n",
    ")\n",
    "\n",
    "# Tensorboard Callback\n",
    "logs_dir = os.path.join(\n",
    "    \"logs\", f\"{object_category}_{timestamp}\"\n",
    ")\n",
    "logs_dir = os.path.join(logs_dir)\n",
    "tb_callback = callbacks.TensorBoard(log_dir=logs_dir)\n",
    "\n",
    "# ModelCheckpoint Callback\n",
    "checkpoint_path = os.path.join(\n",
    "    \"training_checkpoints\",\n",
    "    f\"{object_category}_{timestamp}.h5\",\n",
    ")\n",
    "checkpoint_callback = callbacks.ModelCheckpoint(\n",
    "    filepath=checkpoint_path, save_best_only=True, save_weights_only=True,\n",
    ")\n",
    "\n",
    "callback_list = [\n",
    "    tb_callback,\n",
    "    checkpoint_callback,\n",
    "    lr_callback,\n",
    "    wandb.keras.WandbCallback()\n",
    "]"
   ]
  },
  {
   "cell_type": "code",
   "execution_count": null,
   "metadata": {
    "id": "uyUqjCCSrN0t"
   },
   "outputs": [],
   "source": [
    "with strategy.scope():\n",
    "    optimizer = optimizers.Adam(learning_rate=initial_lr)\n",
    "    _, y = next(iter(train_dataset))\n",
    "    num_classes = y.shape[-1]\n",
    "    model = models.get_shape_segmentation_model(num_points, num_classes)\n",
    "\n",
    "model.compile(\n",
    "    optimizer=optimizer, loss=\"categorical_crossentropy\", metrics=[\"accuracy\"]\n",
    ")"
   ]
  },
  {
   "cell_type": "code",
   "execution_count": null,
   "metadata": {
    "colab": {
     "base_uri": "https://localhost:8080/"
    },
    "id": "Q1yuwJxerRqe",
    "outputId": "0758a6ff-0eeb-4ced-ccd9-30a1d8784c52"
   },
   "outputs": [],
   "source": [
    "model.fit(\n",
    "    train_dataset,\n",
    "    validation_data=val_dataset,\n",
    "    epochs=epochs,\n",
    "    callbacks=callback_list,\n",
    ")"
   ]
  },
  {
   "cell_type": "code",
   "execution_count": null,
   "metadata": {
    "id": "KZHy_6cZswi1"
   },
   "outputs": [],
   "source": []
  }
 ],
 "metadata": {
  "accelerator": "GPU",
  "colab": {
   "authorship_tag": "ABX9TyPLQKeIsE1JaWZTWPGDKJN4",
   "collapsed_sections": [],
   "include_colab_link": true,
   "machine_shape": "hm",
   "name": "train_gpu.ipynb",
   "provenance": []
  },
  "kernelspec": {
   "display_name": "Python 3 (ipykernel)",
   "language": "python",
   "name": "python3"
  },
  "language_info": {
   "codemirror_mode": {
    "name": "ipython",
    "version": 3
   },
   "file_extension": ".py",
   "mimetype": "text/x-python",
   "name": "python",
   "nbconvert_exporter": "python",
   "pygments_lexer": "ipython3",
   "version": "3.8.10"
  }
 },
 "nbformat": 4,
 "nbformat_minor": 1
}
