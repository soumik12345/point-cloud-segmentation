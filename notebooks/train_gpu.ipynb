{
  "nbformat": 4,
  "nbformat_minor": 0,
  "metadata": {
    "accelerator": "GPU",
    "colab": {
      "name": "train_gpu.ipynb",
      "provenance": [],
      "collapsed_sections": [],
      "machine_shape": "hm",
      "include_colab_link": true
    },
    "kernelspec": {
      "display_name": "Python 3 (ipykernel)",
      "language": "python",
      "name": "python3"
    },
    "language_info": {
      "codemirror_mode": {
        "name": "ipython",
        "version": 3
      },
      "file_extension": ".py",
      "mimetype": "text/x-python",
      "name": "python",
      "nbconvert_exporter": "python",
      "pygments_lexer": "ipython3",
      "version": "3.8.2"
    }
  },
  "cells": [
    {
      "cell_type": "markdown",
      "metadata": {
        "id": "view-in-github",
        "colab_type": "text"
      },
      "source": [
        "<a href=\"https://colab.research.google.com/github/soumik12345/point-cloud-segmentation/blob/main/notebooks/train_gpu.ipynb\" target=\"_parent\"><img src=\"https://colab.research.google.com/assets/colab-badge.svg\" alt=\"Open In Colab\"/></a>"
      ]
    },
    {
      "cell_type": "code",
      "metadata": {
        "id": "tUyfFIyFnnSU"
      },
      "source": [
        "!git clone https://github.com/soumik12345/point-cloud-segmentation\n",
        "!pip install -qqq wandb ml_collections"
      ],
      "execution_count": null,
      "outputs": []
    },
    {
      "cell_type": "code",
      "metadata": {
        "id": "ORynKakaoCai"
      },
      "source": [
        "import sys\n",
        "\n",
        "sys.path.append(\"point-cloud-segmentation\")"
      ],
      "execution_count": null,
      "outputs": []
    },
    {
      "cell_type": "code",
      "metadata": {
        "id": "7D_Xj7TcoJQx"
      },
      "source": [
        "import os\n",
        "\n",
        "import wandb\n",
        "import wandb.keras\n",
        "from datetime import datetime\n",
        "\n",
        "from tensorflow.keras import optimizers, callbacks\n",
        "from tensorflow.keras import mixed_precision\n",
        "\n",
        "from point_seg import TFRecordLoader, ShapeNetCoreLoaderInMemory\n",
        "from point_seg import models, utils"
      ],
      "execution_count": null,
      "outputs": []
    },
    {
      "cell_type": "code",
      "metadata": {
        "id": "bJrMXulMoPMZ"
      },
      "source": [
        "#@title Configs\n",
        "#@markdown Get your `wandb_api_key` from https://wandb.ai/authorize.\n",
        "wandb_api_key = \"\" #@param {type:\"string\"}\n",
        "object_category = \"Table\" #@param [\"Airplane\", \"Table\", \"Car\", \"Chair\"] {type:\"string\"}\n",
        "num_points = 1024 #@param {type:\"integer\"}\n",
        "batch_size = 32 #@param {type:\"integer\"}\n",
        "val_split = 0.2 #@param {type:\"number\"}\n",
        "epochs = 60 #@param {type:\"integer\"}\n",
        "initial_lr = 1e-3 #@param {type:\"number\"}\n",
        "drop_every = 10 #@param {type:\"integer\"}\n",
        "decay_factor = 0.5 #@param {type:\"number\"}\n",
        "\n",
        "config_dict = {\n",
        "    \"object_category\": object_category,\n",
        "    \"num_points\": num_points,\n",
        "    \"batch_size\": batch_size,\n",
        "    \"val_split\": val_split,\n",
        "    \"epochs\": epochs,\n",
        "    \"initial_lr\": initial_lr,\n",
        "    \"lr_drop_epoch\": drop_every,\n",
        "    \"decay_factor\": decay_factor\n",
        "}"
      ],
      "execution_count": null,
      "outputs": []
    },
    {
      "cell_type": "code",
      "metadata": {
        "id": "VmAl_DajocRK"
      },
      "source": [
        "timestamp = datetime.utcnow().strftime(\"%y%m%d-%H%M%S\")\n",
        "strategy = utils.initialize_device()\n",
        "batch_size = 32 * strategy.num_replicas_in_sync"
      ],
      "execution_count": null,
      "outputs": []
    },
    {
      "cell_type": "code",
      "metadata": {
        "id": "GWCLRRPiohwh"
      },
      "source": [
        "wandb.init(\n",
        "    project=\"pointnet_shapenet_core\",\n",
        "    name=f\"{object_category}_{timestamp}\",\n",
        "    entity=\"pointnet\",\n",
        "    config=config_dict,\n",
        ")"
      ],
      "execution_count": null,
      "outputs": []
    },
    {
      "cell_type": "code",
      "metadata": {
        "id": "ZXs5a1gZooFZ"
      },
      "source": [
        "# Apply mixed-precision policy [OPTIONAL]\n",
        "mixed_precision.set_global_policy(\"mixed_float16\")\n",
        "policy = mixed_precision.global_policy()"
      ],
      "execution_count": null,
      "outputs": []
    },
    {
      "cell_type": "code",
      "metadata": {
        "id": "B0ENDo5jovzS"
      },
      "source": [
        "data_loader = ShapeNetCoreLoaderInMemory(\n",
        "    object_category=object_category, n_sampled_points=num_points,\n",
        ")\n",
        "data_loader.load_data()\n",
        "train_dataset, val_dataset = data_loader.get_datasets(\n",
        "    val_split=val_split, batch_size=batch_size,\n",
        ")"
      ],
      "execution_count": null,
      "outputs": []
    },
    {
      "cell_type": "code",
      "metadata": {
        "id": "yCRAcznEo0Ph"
      },
      "source": [
        "lr_scheduler = utils.StepDecay(initial_lr, drop_every, decay_factor)\n",
        "lr_callback = callbacks.LearningRateScheduler(\n",
        "    lambda epoch: lr_scheduler(epoch), verbose=True\n",
        ")\n",
        "\n",
        "# Tensorboard Callback\n",
        "logs_dir = os.path.join(\"logs\", f\"{object_category}_{timestamp}\")\n",
        "tb_callback = callbacks.TensorBoard(log_dir=logs_dir)\n",
        "\n",
        "# ModelCheckpoint Callback\n",
        "checkpoint_path = os.path.join(\n",
        "    \"training_checkpoints\", f\"{object_category}_{timestamp}.h5\",\n",
        ")\n",
        "checkpoint_callback = callbacks.ModelCheckpoint(\n",
        "    filepath=checkpoint_path, save_best_only=True, save_weights_only=True,\n",
        ")\n",
        "\n",
        "callback_list = [\n",
        "    tb_callback,\n",
        "    checkpoint_callback,\n",
        "    lr_callback,\n",
        "    wandb.keras.WandbCallback(),\n",
        "]"
      ],
      "execution_count": null,
      "outputs": []
    },
    {
      "cell_type": "code",
      "metadata": {
        "id": "uyUqjCCSrN0t"
      },
      "source": [
        "with strategy.scope():\n",
        "    optimizer = optimizers.Adam(learning_rate=initial_lr)\n",
        "    _, y = next(iter(train_dataset))\n",
        "    num_classes = y.shape[-1]\n",
        "    model = models.get_shape_segmentation_model(num_points, num_classes)\n",
        "\n",
        "model.compile(\n",
        "    optimizer=optimizer, loss=\"categorical_crossentropy\", metrics=[\"accuracy\"]\n",
        ")"
      ],
      "execution_count": null,
      "outputs": []
    },
    {
      "cell_type": "code",
      "metadata": {
        "id": "Q1yuwJxerRqe"
      },
      "source": [
        "model.fit(\n",
        "    train_dataset, validation_data=val_dataset, epochs=epochs, callbacks=callback_list,\n",
        ")"
      ],
      "execution_count": null,
      "outputs": []
    }
  ]
}