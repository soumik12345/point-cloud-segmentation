{
  "nbformat": 4,
  "nbformat_minor": 0,
  "metadata": {
    "accelerator": "TPU",
    "colab": {
      "name": "run-pointnet-segmentation-experiments.ipynb",
      "private_outputs": true,
      "provenance": [],
      "collapsed_sections": [],
      "machine_shape": "hm",
      "include_colab_link": true
    },
    "interpreter": {
      "hash": "951355c884cee5113e2d32a81abb7deab1642eaf6d10ed5f9ed4ece63f7d732b"
    },
    "kernelspec": {
      "display_name": "Python 3.8.10 64-bit ('venv': venv)",
      "name": "python3"
    },
    "language_info": {
      "name": "python",
      "version": ""
    }
  },
  "cells": [
    {
      "cell_type": "markdown",
      "metadata": {
        "id": "view-in-github",
        "colab_type": "text"
      },
      "source": [
        "<a href=\"https://colab.research.google.com/github/soumik12345/point-cloud-segmentation/blob/main/notebooks/run_pointnet_segmentation_experiments.ipynb\" target=\"_parent\"><img src=\"https://colab.research.google.com/assets/colab-badge.svg\" alt=\"Open In Colab\"/></a>"
      ]
    },
    {
      "cell_type": "code",
      "metadata": {
        "id": "1tsu2cSR_GxT"
      },
      "source": [
        "from google.colab import auth\n",
        "auth.authenticate_user()"
      ],
      "execution_count": null,
      "outputs": []
    },
    {
      "cell_type": "code",
      "metadata": {
        "id": "SKyVnq2P_8GE"
      },
      "source": [
        "!pip install -qqq wandb ml_collections"
      ],
      "execution_count": null,
      "outputs": []
    },
    {
      "cell_type": "code",
      "metadata": {
        "id": "2kSZplSp_WCF"
      },
      "source": [
        "!git clone https://github.com/soumik12345/point-cloud-segmentation"
      ],
      "execution_count": null,
      "outputs": []
    },
    {
      "cell_type": "code",
      "metadata": {
        "id": "jLGmMGUjACCd"
      },
      "source": [
        "#@title WandB API Key\n",
        "#@markdown Get your `wandb_api_key` from https://wandb.ai/authorize.\n",
        "wandb_api_key = \"\" #@param {type:\"string\"}"
      ],
      "execution_count": null,
      "outputs": []
    },
    {
      "cell_type": "markdown",
      "metadata": {
        "id": "v4J6KI8fYX-E"
      },
      "source": [
        "## Training on TPU"
      ]
    },
    {
      "cell_type": "code",
      "metadata": {
        "id": "3Kp3otEV_Yjx"
      },
      "source": [
        "!cd point-cloud-segmentation &&\\\n",
        "    python train_shapenet_core.py \\\n",
        "        --experiment_configs configs/shapenetcore.py \\\n",
        "        --wandb_api_key {wandb_api_key} \\\n",
        "        --experiment_configs.object_category \"Airplane\""
      ],
      "execution_count": null,
      "outputs": []
    },
    {
      "cell_type": "markdown",
      "metadata": {
        "id": "4yC3zeFfYX-G"
      },
      "source": [
        "## Training on GPU"
      ]
    },
    {
      "cell_type": "code",
      "metadata": {
        "id": "E27iASOIYX-G"
      },
      "source": [
        "!cd point-cloud-segmentation &&\\\n",
        "    python train_shapenet_core.py \\\n",
        "        --experiment_configs configs/shapenetcore.py \\\n",
        "        --wandb_api_key {wandb_api_key} \\\n",
        "        --experiment_configs.object_category \"Airplane\"  \\\n",
        "        --experiment_configs.in_memory True"
      ],
      "execution_count": null,
      "outputs": []
    },
    {
      "cell_type": "markdown",
      "metadata": {
        "id": "AmNpGOAKYX-H"
      },
      "source": [
        "## List of all flags for training script\n",
        "\n",
        "```\n",
        "--experiment_configs                       Experiment configs (configs/shapenetcore.py)\n",
        "--experiment_configs.wandb_project_name    Project Name (DEFAULT: pointnet_shapenet_core)\n",
        "--experiment_configs.experiment_name       Experiment Name (DEFAULT: shapenet_core_experiment)\n",
        "--experiment_configs.wandb_api_key         W&B API Key (OPTIONAL)\n",
        "--experiment_configs.object_category       ShapenetCore object category (DEFAULT: 'Airplane')\n",
        "--experiment_configs.in_memory             Flag: Use In-memory dataloader (DEFAULT: True)\n",
        "--experiment_configs.batch_size            Batch Size (DEFAULT: 32)\n",
        "--experiment_configs.num_points            Number of points to be sampled from a given point cloud (DEFAULT: 1024)\n",
        "--experiment_configs.initial_lr            Initial Learning Rate (DEFAULT: 1e-3)\n",
        "--experiment_configs.drop_every            Epochs after which Learning Rate is dropped (DEFAULT: 20)\n",
        "--experiment_configs.decay_factor          Learning Rate Decay Factor (DEFAULT: 0.5)\n",
        "--experiment_configs.epochs                Number of training epochs (DEFAULT: 100)\n",
        "--experiment_configs.use_mp                Flag: Use mixed-precision or not (DEFAULT: False)\n",
        "--experiment_configs.use_tpus              Flag: Use mixed-precision or not (DEFAULT: True)\n",
        "```\n",
        "\n",
        "## List of all supported object categories\n",
        "\n",
        "- Airplane\n",
        "- Bag\n",
        "- Cap\n",
        "- Car\n",
        "- Chair\n",
        "- Earphone\n",
        "- Guitar\n",
        "- Knife\n",
        "- Lamp\n",
        "- Laptop\n",
        "- Motorbike\n",
        "- Mug\n",
        "- Pistol\n",
        "- Rocket\n",
        "- Skateboard\n",
        "- Table"
      ]
    }
  ]
}