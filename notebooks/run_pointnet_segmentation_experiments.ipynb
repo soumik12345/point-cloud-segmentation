{
 "cells": [
  {
   "cell_type": "markdown",
   "metadata": {
    "colab_type": "text",
    "id": "view-in-github"
   },
   "source": [
    "<a href=\"https://colab.research.google.com/github/soumik12345/point-cloud-segmentation/blob/main/notebooks/run_pointnet_segmentation_experiments.ipynb\" target=\"_parent\"><img src=\"https://colab.research.google.com/assets/colab-badge.svg\" alt=\"Open In Colab\"/></a>"
   ]
  },
  {
   "cell_type": "markdown",
   "metadata": {},
   "source": [
    "## GCP Authorization\n",
    "\n",
    "_Only needed if you are using TPUs._ "
   ]
  },
  {
   "cell_type": "code",
   "execution_count": null,
   "metadata": {
    "id": "1tsu2cSR_GxT"
   },
   "outputs": [],
   "source": [
    "from google.colab import auth\n",
    "auth.authenticate_user()"
   ]
  },
  {
   "cell_type": "markdown",
   "metadata": {},
   "source": [
    "## Install dependencies and clone the repo"
   ]
  },
  {
   "cell_type": "code",
   "execution_count": null,
   "metadata": {
    "id": "SKyVnq2P_8GE"
   },
   "outputs": [],
   "source": [
    "!pip install -qqq wandb ml_collections"
   ]
  },
  {
   "cell_type": "code",
   "execution_count": null,
   "metadata": {
    "id": "2kSZplSp_WCF"
   },
   "outputs": [],
   "source": [
    "!git clone https://github.com/soumik12345/point-cloud-segmentation"
   ]
  },
  {
   "cell_type": "markdown",
   "metadata": {},
   "source": [
    "## Authorize WandB\n",
    "\n",
    "_Only needed if you would like to log your results in WandB._ "
   ]
  },
  {
   "cell_type": "code",
   "execution_count": null,
   "metadata": {
    "id": "jLGmMGUjACCd"
   },
   "outputs": [],
   "source": [
    "#@title WandB API Key\n",
    "#@markdown Get your `wandb_api_key` from https://wandb.ai/authorize.\n",
    "wandb_api_key = \"\" #@param {type:\"string\"}"
   ]
  },
  {
   "cell_type": "markdown",
   "metadata": {
    "id": "v4J6KI8fYX-E"
   },
   "source": [
    "## Training on TPU"
   ]
  },
  {
   "cell_type": "code",
   "execution_count": null,
   "metadata": {
    "id": "3Kp3otEV_Yjx"
   },
   "outputs": [],
   "source": [
    "!cd point-cloud-segmentation &&\\\n",
    "    python train_shapenet_core.py \\\n",
    "        --experiment_configs configs/shapenetcore.py \\"
   ]
  },
  {
   "cell_type": "markdown",
   "metadata": {
    "id": "4yC3zeFfYX-G"
   },
   "source": [
    "## Training on GPU"
   ]
  },
  {
   "cell_type": "code",
   "execution_count": null,
   "metadata": {
    "id": "E27iASOIYX-G"
   },
   "outputs": [],
   "source": [
    "!cd point-cloud-segmentation &&\\\n",
    "    python train_shapenet_core.py \\\n",
    "        --experiment_configs configs/shapenetcore.py "
   ]
  },
  {
   "cell_type": "markdown",
   "metadata": {
    "id": "AmNpGOAKYX-H"
   },
   "source": [
    "## List of all flags for training script\n",
    "\n",
    "```\n",
    "--experiment_configs                       Experiment configs (configs/shapenetcore.py)\n",
    "--wandb_project_name                       Project Name (DEFAULT: pointnet_shapenet_core)\n",
    "--use_wandb                                If using wandb DEFAULT (True)\n",
    "```\n",
    "\n",
    "In case you want to change the configuration-related parameters, either edit them directly in\n",
    "`configs/shapenetcore.py` or add a new configuration and specify the name of the configuration\n",
    "in the command line."
   ]
  },
  {
   "cell_type": "markdown",
   "metadata": {},
   "source": [
    "## List of all supported object categories\n",
    "\n",
    "- Airplane\n",
    "- Bag\n",
    "- Cap\n",
    "- Car\n",
    "- Chair\n",
    "- Earphone\n",
    "- Guitar\n",
    "- Knife\n",
    "- Lamp\n",
    "- Laptop\n",
    "- Motorbike\n",
    "- Mug\n",
    "- Pistol\n",
    "- Rocket\n",
    "- Skateboard\n",
    "- Table"
   ]
  }
 ],
 "metadata": {
  "accelerator": "TPU",
  "colab": {
   "collapsed_sections": [],
   "include_colab_link": true,
   "machine_shape": "hm",
   "name": "run-pointnet-segmentation-experiments.ipynb",
   "private_outputs": true,
   "provenance": []
  },
  "interpreter": {
   "hash": "951355c884cee5113e2d32a81abb7deab1642eaf6d10ed5f9ed4ece63f7d732b"
  },
  "kernelspec": {
   "display_name": "Python 3 (ipykernel)",
   "language": "python",
   "name": "python3"
  },
  "language_info": {
   "codemirror_mode": {
    "name": "ipython",
    "version": 3
   },
   "file_extension": ".py",
   "mimetype": "text/x-python",
   "name": "python",
   "nbconvert_exporter": "python",
   "pygments_lexer": "ipython3",
   "version": "3.8.2"
  }
 },
 "nbformat": 4,
 "nbformat_minor": 1
}
