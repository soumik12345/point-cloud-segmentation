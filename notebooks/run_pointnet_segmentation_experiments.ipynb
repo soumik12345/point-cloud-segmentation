{
  "nbformat": 4,
  "nbformat_minor": 0,
  "metadata": {
    "colab": {
      "name": "run-pointnet-segmentation-experiments.ipynb",
      "private_outputs": true,
      "provenance": [],
      "collapsed_sections": [],
      "machine_shape": "hm",
      "include_colab_link": true
    },
    "kernelspec": {
      "name": "python3",
      "display_name": "Python 3"
    },
    "language_info": {
      "name": "python"
    },
    "accelerator": "TPU"
  },
  "cells": [
    {
      "cell_type": "markdown",
      "metadata": {
        "id": "view-in-github",
        "colab_type": "text"
      },
      "source": [
        "<a href=\"https://colab.research.google.com/github/soumik12345/point-cloud-segmentation/blob/gpu-training/notebooks/run_pointnet_segmentation_experiments.ipynb\" target=\"_parent\"><img src=\"https://colab.research.google.com/assets/colab-badge.svg\" alt=\"Open In Colab\"/></a>"
      ]
    },
    {
      "cell_type": "code",
      "metadata": {
        "id": "1tsu2cSR_GxT"
      },
      "source": [
        "from google.colab import auth\n",
        "auth.authenticate_user()"
      ],
      "execution_count": null,
      "outputs": []
    },
    {
      "cell_type": "code",
      "metadata": {
        "id": "SKyVnq2P_8GE"
      },
      "source": [
        "!pip install -qqq wandb ml_collections"
      ],
      "execution_count": null,
      "outputs": []
    },
    {
      "cell_type": "code",
      "metadata": {
        "id": "2kSZplSp_WCF"
      },
      "source": [
        "!git clone https://github.com/soumik12345/point-cloud-segmentation"
      ],
      "execution_count": null,
      "outputs": []
    },
    {
      "cell_type": "code",
      "metadata": {
        "id": "jLGmMGUjACCd"
      },
      "source": [
        "#@title WandB API Key\n",
        "#@markdown Get your `wandb_api_key` from https://wandb.ai/authorize.\n",
        "wandb_api_key = \".\" #@param {type:\"string\"}"
      ],
      "execution_count": null,
      "outputs": []
    },
    {
      "cell_type": "code",
      "metadata": {
        "id": "3Kp3otEV_Yjx"
      },
      "source": [
        "!cd point-cloud-segmentation &&\\\n",
        "    python train_shapenet_core.py --experiment_configs configs/shapenetcore.py \\\n",
        "        --wandb_api_key {wandb_api_key}"
      ],
      "execution_count": null,
      "outputs": []
    },
    {
      "cell_type": "code",
      "metadata": {
        "id": "w82CkIi6MaYa"
      },
      "source": [
        "from google.colab import files\n",
        "files.open(\"\")"
      ],
      "execution_count": null,
      "outputs": []
    }
  ]
}