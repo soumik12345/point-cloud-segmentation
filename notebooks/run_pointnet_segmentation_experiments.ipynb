{
  "cells": [
    {
      "cell_type": "markdown",
      "metadata": {
        "colab_type": "text",
        "id": "view-in-github"
      },
      "source": [
        "<a href=\"https://colab.research.google.com/github/soumik12345/point-cloud-segmentation/blob/gpu-training/notebooks/run_pointnet_segmentation_experiments.ipynb\" target=\"_parent\"><img src=\"https://colab.research.google.com/assets/colab-badge.svg\" alt=\"Open In Colab\"/></a>"
      ]
    },
    {
      "cell_type": "code",
      "execution_count": null,
      "metadata": {
        "id": "1tsu2cSR_GxT"
      },
      "outputs": [],
      "source": [
        "from google.colab import auth\n",
        "auth.authenticate_user()"
      ]
    },
    {
      "cell_type": "code",
      "execution_count": null,
      "metadata": {
        "id": "SKyVnq2P_8GE"
      },
      "outputs": [],
      "source": [
        "!pip install -qqq wandb ml_collections"
      ]
    },
    {
      "cell_type": "code",
      "execution_count": null,
      "metadata": {
        "id": "2kSZplSp_WCF"
      },
      "outputs": [],
      "source": [
        "!git clone https://github.com/soumik12345/point-cloud-segmentation"
      ]
    },
    {
      "cell_type": "code",
      "execution_count": null,
      "metadata": {
        "id": "jLGmMGUjACCd"
      },
      "outputs": [],
      "source": [
        "#@title WandB API Key\n",
        "#@markdown Get your `wandb_api_key` from https://wandb.ai/authorize.\n",
        "wandb_api_key = \".\" #@param {type:\"string\"}"
      ]
    },
    {
      "cell_type": "markdown",
      "metadata": {},
      "source": [
        "## Training on TPU"
      ]
    },
    {
      "cell_type": "code",
      "execution_count": null,
      "metadata": {
        "id": "3Kp3otEV_Yjx"
      },
      "outputs": [],
      "source": [
        "!cd point-cloud-segmentation &&\\\n",
        "    python train_shapenet_core.py \\\n",
        "        --experiment_configs configs/shapenetcore.py \\\n",
        "        --wandb_api_key {wandb_api_key} \"Airplane\" \\\n",
        "        --experiment_configs.object_category"
      ]
    },
    {
      "cell_type": "markdown",
      "metadata": {},
      "source": [
        "## Training on GPU"
      ]
    },
    {
      "cell_type": "code",
      "execution_count": null,
      "metadata": {},
      "outputs": [],
      "source": [
        "!cd point-cloud-segmentation &&\\\n",
        "    python train_shapenet_core.py \\\n",
        "        --experiment_configs configs/shapenetcore.py \\\n",
        "        --wandb_api_key {wandb_api_key} \\\n",
        "        --experiment_configs.object_category \"Airplane\"  \\\n",
        "        --experiment_configs.in_memory True"
      ]
    },
    {
      "cell_type": "markdown",
      "metadata": {},
      "source": [
        "## List of all flags for training script\n",
        "\n",
        "```\n",
        "--experiment_configs                       Experiment configs (configs/shapenetcore.py)\n",
        "--experiment_configs.wandb_project_name    Project Name (DEFAULT: pointnet_shapenet_core)\n",
        "--experiment_configs.experiment_name       Experiment Name (DEFAULT: shapenet_core_experiment)\n",
        "--experiment_configs.wandb_api_key         W&B API Key (OPTIONAL)\n",
        "--experiment_configs.object_category       ShapenetCore object category (DEFAULT: 'Airplane')\n",
        "--experiment_configs.in_memory             Flag: Use In-memory dataloader (DEFAULT: True)\n",
        "--experiment_configs.batch_size            Batch Size (DEFAULT: 32)\n",
        "--experiment_configs.num_points            Number of points to be sampled from a given point cloud (DEFAULT: 1024)\n",
        "--experiment_configs.initial_lr            Initial Learning Rate (DEFAULT: 1e-3)\n",
        "--experiment_configs.drop_every            Epochs after which Learning Rate is dropped (DEFAULT: 20)\n",
        "--experiment_configs.decay_factor          Learning Rate Decay Factor (DEFAULT: 0.5)\n",
        "--experiment_configs.epochs                Number of training epochs (DEFAULT: 100)\n",
        "--experiment_configs.use_mp                Flag: Use mixed-precision or not (DEFAULT: False)\n",
        "--experiment_configs.use_tpus              Flag: Use mixed-precision or not (DEFAULT: True)\n",
        "```\n",
        "\n",
        "## List of all supported object categories\n",
        "\n",
        "- Airplane\n",
        "- Bag\n",
        "- Cap\n",
        "- Car\n",
        "- Chair\n",
        "- Earphone\n",
        "- Guitar\n",
        "- Knife\n",
        "- Lamp\n",
        "- Laptop\n",
        "- Motorbike\n",
        "- Mug\n",
        "- Pistol\n",
        "- Rocket\n",
        "- Skateboard\n",
        "- Table"
      ]
    }
  ],
  "metadata": {
    "accelerator": "TPU",
    "colab": {
      "collapsed_sections": [],
      "include_colab_link": true,
      "machine_shape": "hm",
      "name": "run-pointnet-segmentation-experiments.ipynb",
      "private_outputs": true,
      "provenance": []
    },
    "interpreter": {
      "hash": "951355c884cee5113e2d32a81abb7deab1642eaf6d10ed5f9ed4ece63f7d732b"
    },
    "kernelspec": {
      "display_name": "Python 3.8.10 64-bit ('venv': venv)",
      "name": "python3"
    },
    "language_info": {
      "name": "python",
      "version": ""
    }
  },
  "nbformat": 4,
  "nbformat_minor": 0
}